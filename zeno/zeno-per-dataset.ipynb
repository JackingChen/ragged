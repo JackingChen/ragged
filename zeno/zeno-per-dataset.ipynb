{
 "cells": [
  {
   "cell_type": "code",
   "execution_count": 1,
   "metadata": {},
   "outputs": [
    {
     "data": {
      "text/plain": [
       "False"
      ]
     },
     "execution_count": 1,
     "metadata": {},
     "output_type": "execute_result"
    }
   ],
   "source": [
    "from zeno_client import ZenoClient, ZenoMetric\n",
    "import pandas as pd\n",
    "import json\n",
    "import os\n",
    "from dotenv import load_dotenv\n",
    "\n",
    "load_dotenv(override=True)"
   ]
  },
  {
   "cell_type": "code",
   "execution_count": 2,
   "metadata": {},
   "outputs": [],
   "source": [
    "root_dir = '/data/user_data/jhsia2/dbqa'\n",
    "results_dir = os.path.join(root_dir, 'reader_results')\n",
    "client = ZenoClient('zen_EZ7LuqItWgObcQmIvNZVytvhtTh8JMs2HrSzzfXsiIg')\n"
   ]
  },
  {
   "cell_type": "code",
   "execution_count": 3,
   "metadata": {},
   "outputs": [],
   "source": [
    "with open('/data/user_data/jhsia2/dbqa/data/id2title.json', 'r') as file:\n",
    "    # Use json.dump to write the list of dictionaries to the file\n",
    "    id2title = json.load(file)"
   ]
  },
  {
   "cell_type": "code",
   "execution_count": 4,
   "metadata": {},
   "outputs": [],
   "source": [
    "dataset = 'nq'"
   ]
  },
  {
   "cell_type": "code",
   "execution_count": 18,
   "metadata": {},
   "outputs": [
    {
     "name": "stdout",
     "output_type": "stream",
     "text": [
      "Successfully updated project.\n",
      "Access your project at  https://hub.zenoml.com/project/jhsia2/Document%20QA%20-%20nq\n"
     ]
    }
   ],
   "source": [
    "project = client.create_project(\n",
    "    name=f\"Document QA - {dataset}\",\n",
    "    view={\n",
    "        \"data\": {\"type\": \"text\", \n",
    "                 \"label\": \"question:\"\n",
    "                },\n",
    "        \"label\": {\"type\": \"text\"},\n",
    "        \"output\": {\n",
    "            \"type\": \"vstack\",\n",
    "            \"keys\": {\n",
    "                \"gold answer set\": {\"type\": \"text\", \"label\": \"gold answer set: \"},\n",
    "                \"gold title set\": {\"type\": \"text\", \"label\": \"gold title set: \"},\n",
    "                # \"gold context set\": {\"type\": \"text\", \"label\": \"gold text set: \"},\n",
    "                \"answer\": {\"type\": \"text\", \"label\": \"reader answer: \"},\n",
    "                \"retrieved context\": {\n",
    "                    \"type\": \"list\",\n",
    "                    \"elements\": {\n",
    "                        \"type\": \"vstack\",\n",
    "                        \"keys\": {\n",
    "                            \"score\": {\"type\": \"text\", \"label\": \"score: \"},\n",
    "                            \"wiki_id\": {\"type\": \"markdown\"},\n",
    "                            \"text\": {\"type\": \"text\", \"label\": \"text: \"},\n",
    "                            \"wiki_id_match\": {\"type\": \"text\", \"label\": \"wiki_id match: \"},\n",
    "                            \"wiki_par_id_match\": {\"type\": \"text\", \"label\": \"wiki_par_id match: \"}\n",
    "                        },\n",
    "                    },\n",
    "                    \"collapsible\": \"bottom\",\n",
    "                    \"border\": True,\n",
    "                    \"pad\": True,\n",
    "                },\n",
    "            },\n",
    "        },\n",
    "    },\n",
    "    description=\"Document-grounded question answering with Wikipedia\",\n",
    "    metrics=[\n",
    "        ZenoMetric(name=\"max retrieved score\", type=\"mean\", columns=[\"max_score\"]),\n",
    "        ZenoMetric(name=\"avg retrieved score\", type=\"mean\", columns=[\"avg_score\"]),\n",
    "        ZenoMetric(name=\"exact_match\", type=\"mean\", columns=[\"exact_match\"]),\n",
    "        ZenoMetric(name=\"f1\", type=\"mean\", columns=[\"f1\"]),\n",
    "        ZenoMetric(name=\"gold wiki_par_id set size\", type=\"mean\", columns=[\"gold wiki_par_id set size\"]),\n",
    "        ZenoMetric(name=\"substring_match\", type=\"mean\", columns=[\"substring_match\"]),\n",
    "        ZenoMetric(name=\"any wiki_id_match\", type=\"mean\", columns=[\"any wiki_id_match\"]),\n",
    "        ZenoMetric(name=\"any wiki_par_id_match\", type=\"mean\", columns=[\"any wiki_par_id_match\"]),\n",
    "        ZenoMetric(name=\"precision - wiki_id_match\", type=\"mean\", columns=[\"precision wiki_id_match\"]),\n",
    "        ZenoMetric(name=\"precision - wiki_par_id_match\", type=\"mean\", columns=[\"precision wiki_par_id_match\"]),\n",
    "        ZenoMetric(name=\"recall - wiki_id_match\", type=\"mean\", columns=[\"recall wiki_id_match\"]),\n",
    "        ZenoMetric(name=\"recall - wiki_par_id_match\", type=\"mean\", columns=[\"recall wiki_par_id_match\"]),\n",
    "        # ZenoMetric(name=\"true precision - wiki_id_match\", type=\"mean\", columns=[\"true precision wiki_id_match\"]),\n",
    "        # ZenoMetric(name=\"true precision - wiki_par_id_match\", type=\"mean\", columns=[\"true precision wiki_par_id_match\"]),\n",
    "        # ZenoMetric(name=\"true recall - wiki_id_match\", type=\"mean\", columns=[\"true recall wiki_id_match\"]),\n",
    "        # ZenoMetric(name=\"true recall - wiki_par_id_match\", type=\"mean\", columns=[\"true recall wiki_par_id_match\"]),\n",
    "    ],\n",
    ")"
   ]
  },
  {
   "cell_type": "code",
   "execution_count": 6,
   "metadata": {},
   "outputs": [
    {
     "name": "stdout",
     "output_type": "stream",
     "text": [
      "2837\n"
     ]
    }
   ],
   "source": [
    "# datasets = ['nq', 'hotpotqa']\n",
    "gold_data = []\n",
    "# for dataset in datasets:\n",
    "with open(os.path.join(root_dir, 'data', f\"gold-{dataset}-dev-kilt.json\"), \"r\") as f:\n",
    "    data = json.load(f)\n",
    "for d in data:\n",
    "    d['dataset'] = dataset\n",
    "print(len(data))\n",
    "gold_data = gold_data + sorted(data, key=lambda x: x[\"id\"])\n",
    "# gold_answer_set, gold_wiki_par_id_set, gold_wiki_par_text_set, gold_title_set = get_gold_sets(gold_data)\n"
   ]
  },
  {
   "cell_type": "code",
   "execution_count": 15,
   "metadata": {},
   "outputs": [
    {
     "name": "stdout",
     "output_type": "stream",
     "text": [
      "avg 2.2217130771942193 std 1.1900098894511266 min 1 max 12\n"
     ]
    },
    {
     "data": {
      "image/png": "[encoded data removed]",
      "text/plain": [
       "<Figure size 640x480 with 1 Axes>"
      ]
     },
     "metadata": {},
     "output_type": "display_data"
    },
    {
     "name": "stdout",
     "output_type": "stream",
     "text": [
      "avg 1.6270708494888968 std 0.831067737513196 min 1 max 5\n"
     ]
    },
    {
     "data": {
      "image/png": "[encoded data removed]",
      "text/plain": [
       "<Figure size 640x480 with 1 Axes>"
      ]
     },
     "metadata": {},
     "output_type": "display_data"
    }
   ],
   "source": [
    "wiki_par_id_set_size = []\n",
    "wiki_id_set_size = []\n",
    "for d in gold_data:\n",
    "    wiki_par_id_set_size.append(len(d['output']['wiki_par_id_set']))\n",
    "    wiki_id_set_size.append(len(d['output']['wiki_id_set']))\n",
    "    \n",
    "import numpy as np\n",
    "\n",
    "import matplotlib.pyplot as plt\n",
    "def get_hist_info(size_set, unit):\n",
    "    print('avg', np.mean(size_set), 'std', np.std(size_set), 'min', np.min(size_set), 'max', np.max(size_set))\n",
    "        # gold_wiki_size = [len(s) for s in gold_wiki_par_id_set]\n",
    "\n",
    "    plt.hist(size_set, bins=np.arange(min(size_set)-0.5, max(size_set)+1.5, 1), edgecolor='black')\n",
    "\n",
    "    # Set the labels and title for the plot\n",
    "    plt.xlabel(f'gold {unit} set size')\n",
    "    plt.ylabel('frequency')\n",
    "    plt.title(f'gold {unit} set size - {dataset}')\n",
    "\n",
    "    # Set x-ticks to correspond to the integer values\n",
    "    plt.xticks(range(min(size_set), max(size_set) + 1))\n",
    "\n",
    "    # Display the plot\n",
    "    plt.show()\n",
    "    \n",
    "get_hist_info(wiki_par_id_set_size, unit = 'paragraph')\n",
    "get_hist_info(wiki_id_set_size, unit = 'page')"
   ]
  },
  {
   "cell_type": "code",
   "execution_count": 16,
   "metadata": {},
   "outputs": [],
   "source": [
    "# data_df = pd.DataFrame({\"question\": [d[\"input\"] for d in gold_data], 'id': [d['id'] for d in gold_data]})\n",
    "# project.upload_dataset(data_df, id_column=\"id\", data_column=\"question\")"
   ]
  },
  {
   "cell_type": "code",
   "execution_count": 17,
   "metadata": {},
   "outputs": [],
   "source": [
    "def get_precision(guess_wiki_id_set, gold_wiki_id_set):\n",
    "    precision = np.mean([[s in gold_wiki_id_set] for s in guess_wiki_id_set])\n",
    "    return precision\n",
    "def get_recall(guess_wiki_id_set, gold_wiki_id_set):\n",
    "    # print(guess_wiki_id_set)\n",
    "    # print(gold_wiki_id_set)\n",
    "    recall = np.mean([[s in guess_wiki_id_set] for s in gold_wiki_id_set]) if len(gold_wiki_id_set) > 0 else 0.0\n",
    "    return recall"
   ]
  },
  {
   "cell_type": "code",
   "execution_count": 14,
   "metadata": {},
   "outputs": [],
   "source": [
    "import numpy as np\n",
    "def get_reader_df(top_k, combined_data):\n",
    "    return pd.DataFrame(\n",
    "        {\n",
    "            \"question\": [d['input'] for d in combined_data],\n",
    "            \"dataset\": [d['dataset'] for d in combined_data],\n",
    "            \"id\": [d['id'] for d in combined_data],\n",
    "            \"output\": [\n",
    "                json.dumps(\n",
    "                    {   \n",
    "                        \"gold answer set\": ', '.join(d['gold_answer_set']),\n",
    "                        \"gold title set\": ', '.join(d['gold_title_set']),\n",
    "                        # \"gold context set\": '\\n'.join(d['gold_text_set']),\n",
    "                        # \"gold context\": d['gold_context'],\n",
    "                        \"answer\": d[\"output\"][\"answer\"],\n",
    "                        \"retrieved context\": [\n",
    "                            {\n",
    "                                # \"wiki_id\": None,\n",
    "                                # \"text\": None,\n",
    "                                # \"score\": None,\n",
    "                                # \"wiki_id_match\": None,\n",
    "                                # \"wiki_par_id_match\": None\n",
    "                            }\n",
    "                        ] if top_k == 'baseline' else [\n",
    "                            {\n",
    "                                \"wiki_id\": \"[{idx}]({url})\".format(\n",
    "                                    idx=id2title[r[\"wiki_id\"]],\n",
    "                                    url=\"https://en.wikipedia.org/?curid=\"\n",
    "                                    + r[\"wiki_id\"],\n",
    "                                ),\n",
    "                                \"text\": r[\"text\"],\n",
    "                                \"score\": r[\"score\"],\n",
    "                                \"wiki_id_match\": r[\"wiki_id_match\"],\n",
    "                                \"wiki_par_id_match\": r[\"wiki_par_id_match\"]\n",
    "                            }\n",
    "                        for r in d[\"output\"][\"retrieved\"]\n",
    "                        ],\n",
    "                    }\n",
    "                )\n",
    "                for d in combined_data\n",
    "            ],\n",
    "            \n",
    "            \"gold wiki_par_id set size\": [\n",
    "                len(d[\"gold_wiki_par_id_set\"]) for d in combined_data\n",
    "            ],\n",
    "            \"max_score\": [0 for d in combined_data] if top_k == 'baseline' else [\n",
    "                d[\"output\"][\"retrieved\"][0][\"score\"] for d in combined_data\n",
    "            ],\n",
    "            \"avg_score\": [0 for d in combined_data] if top_k == 'baseline' else [\n",
    "                np.mean([r[\"score\"] for r in d[\"output\"][\"retrieved\"]]) for d in combined_data\n",
    "            ],\n",
    "            \"f1\": [\n",
    "                d[\"output\"][\"answer_evaluation\"][\"f1\"] for d in combined_data\n",
    "            ],\n",
    "            \"exact_match\": [\n",
    "                d[\"output\"][\"answer_evaluation\"][\"exact_match\"] for d in combined_data\n",
    "            ],\n",
    "            \"substring_match\": [\n",
    "                d[\"output\"][\"answer_evaluation\"][\"substring_match\"] for d in combined_data\n",
    "            ],\n",
    "            \"any wiki_id_match\": [False for d in combined_data] if top_k == 'baseline' else [\n",
    "                d[\"output\"][\"summary context evaluation\"][\"wiki_id_match\"] for d in combined_data\n",
    "            ],\n",
    "            \"any wiki_par_id_match\": [False for d in combined_data] if top_k == 'baseline' else [\n",
    "                d[\"output\"][\"summary context evaluation\"][\"wiki_par_id_match\"] for d in combined_data\n",
    "            ],\n",
    "            \"precision wiki_id_match\": [0 for d in combined_data] if top_k == 'baseline' else [\n",
    "                get_precision(set([r[\"wiki_id\"] for r in d[\"output\"][\"retrieved\"]]), d['gold_wiki_id_set']) for d in combined_data\n",
    "            ],\n",
    "            \"precision wiki_par_id_match\": [0 for d in combined_data] if top_k == 'baseline' else [\n",
    "                get_precision(set([r[\"wiki_par_id\"] for r in d[\"output\"][\"retrieved\"]]), d['gold_wiki_par_id_set']) for d in combined_data\n",
    "            ],\n",
    "            \"recall wiki_id_match\": [0 for d in combined_data] if top_k == 'baseline' else [\n",
    "                get_recall(set([r[\"wiki_id\"] for r in d[\"output\"][\"retrieved\"]]), d['gold_wiki_id_set']) for d in combined_data\n",
    "            ],\n",
    "            \"recall wiki_par_id_match\": [0 for d in combined_data] if top_k == 'baseline' else [\n",
    "                get_recall(set([r[\"wiki_par_id\"] for r in d[\"output\"][\"retrieved\"]]), d['gold_wiki_par_id_set']) for d in combined_data\n",
    "            ],\n",
    "            # \"true precision wiki_id_match\": [0 for d in combined_data] if top_k == 'baseline' else [\n",
    "            #     get_precision(set([r[\"wiki_id\"][:d['truncated_num_docs']] for r in d[\"output\"][\"retrieved\"]]), d['gold_wiki_id_set']) for d in combined_data\n",
    "            # ],\n",
    "            # \"true precision wiki_par_id_match\": [0 for d in combined_data] if top_k == 'baseline' else [\n",
    "            #     get_precision(set([r[\"wiki_par_id\"][:d['truncated_num_docs']] for r in d[\"output\"][\"retrieved\"]]), d['gold_wiki_par_id_set']) for d in combined_data\n",
    "            # ],\n",
    "            # \"true recall wiki_id_match\": [0 for d in combined_data] if top_k == 'baseline' else [\n",
    "            #     get_recall(set([r[\"wiki_id\"][:d['truncated_num_docs']] for r in d[\"output\"][\"retrieved\"]]), d['gold_wiki_id_set']) for d in combined_data\n",
    "            # ],\n",
    "            # \"true recall wiki_par_id_match\": [0 for d in combined_data] if top_k == 'baseline' else [\n",
    "            #     get_recall(set([r[\"wiki_par_id\"][:d['truncated_num_docs']] for r in d[\"output\"][\"retrieved\"]]), d['gold_wiki_par_id_set']) for d in combined_data\n",
    "            # ]\n",
    "        }\n",
    "    )\n",
    "    # return output_df\n",
    "# output_df[\"id\"] = "
   ]
  },
  {
   "cell_type": "code",
   "execution_count": 15,
   "metadata": {},
   "outputs": [],
   "source": [
    "def combine_gold_and_compiled(output_data, gold_data):\n",
    "    \n",
    "    for i, (od, gd) in enumerate(zip(output_data, gold_data)):\n",
    "        # print(i)\n",
    "        # print('output', od)\n",
    "        # print('gold', gd)\n",
    "        if(od['id'] != gd['id']):\n",
    "            print(od, gd)\n",
    "            break\n",
    "        # od['gold_title_set'] = gd['output']['answer_set']\n",
    "        od['dataset'] = gd['dataset']\n",
    "        od['gold_answer_set'] = gd['output']['answer_set']\n",
    "        od['gold_wiki_id_set'] = gd['output']['wiki_id_set']\n",
    "        od['gold_wiki_par_id_set'] = gd['output']['wiki_par_id_set']\n",
    "        od['gold_title_set'] = gd['output']['title_set']\n",
    "    return output_data"
   ]
  },
  {
   "cell_type": "code",
   "execution_count": 16,
   "metadata": {},
   "outputs": [],
   "source": [
    "def combine_truncated_stats(combined_data, truncated_reader_stats):\n",
    "    for (c,t) in zip(combined_data, truncated_reader_stats):\n",
    "        c['truncated_num_docs'] = t['num_docs']\n",
    "    return combined_data"
   ]
  },
  {
   "cell_type": "code",
   "execution_count": 20,
   "metadata": {},
   "outputs": [
    {
     "name": "stdout",
     "output_type": "stream",
     "text": [
      "retriever bm25\n",
      "reader llama_7b\n",
      "baseline\n"
     ]
    },
    {
     "ename": "APIError",
     "evalue": "Internal Server Error",
     "output_type": "error",
     "traceback": [
      "\u001b[0;31m---------------------------------------------------------------------------\u001b[0m",
      "\u001b[0;31mJSONDecodeError\u001b[0m                           Traceback (most recent call last)",
      "File \u001b[0;32m~/miniforge-pypy3/envs/py10/lib/python3.10/site-packages/requests/models.py:971\u001b[0m, in \u001b[0;36mResponse.json\u001b[0;34m(self, **kwargs)\u001b[0m\n\u001b[1;32m    970\u001b[0m \u001b[38;5;28;01mtry\u001b[39;00m:\n\u001b[0;32m--> 971\u001b[0m     \u001b[38;5;28;01mreturn\u001b[39;00m \u001b[43mcomplexjson\u001b[49m\u001b[38;5;241;43m.\u001b[39;49m\u001b[43mloads\u001b[49m\u001b[43m(\u001b[49m\u001b[38;5;28;43mself\u001b[39;49m\u001b[38;5;241;43m.\u001b[39;49m\u001b[43mtext\u001b[49m\u001b[43m,\u001b[49m\u001b[43m \u001b[49m\u001b[38;5;241;43m*\u001b[39;49m\u001b[38;5;241;43m*\u001b[39;49m\u001b[43mkwargs\u001b[49m\u001b[43m)\u001b[49m\n\u001b[1;32m    972\u001b[0m \u001b[38;5;28;01mexcept\u001b[39;00m JSONDecodeError \u001b[38;5;28;01mas\u001b[39;00m e:\n\u001b[1;32m    973\u001b[0m     \u001b[38;5;66;03m# Catch JSON-related errors and raise as requests.JSONDecodeError\u001b[39;00m\n\u001b[1;32m    974\u001b[0m     \u001b[38;5;66;03m# This aliases json.JSONDecodeError and simplejson.JSONDecodeError\u001b[39;00m\n",
      "File \u001b[0;32m~/miniforge-pypy3/envs/py10/lib/python3.10/json/__init__.py:346\u001b[0m, in \u001b[0;36mloads\u001b[0;34m(s, cls, object_hook, parse_float, parse_int, parse_constant, object_pairs_hook, **kw)\u001b[0m\n\u001b[1;32m    343\u001b[0m \u001b[38;5;28;01mif\u001b[39;00m (\u001b[38;5;28mcls\u001b[39m \u001b[38;5;129;01mis\u001b[39;00m \u001b[38;5;28;01mNone\u001b[39;00m \u001b[38;5;129;01mand\u001b[39;00m object_hook \u001b[38;5;129;01mis\u001b[39;00m \u001b[38;5;28;01mNone\u001b[39;00m \u001b[38;5;129;01mand\u001b[39;00m\n\u001b[1;32m    344\u001b[0m         parse_int \u001b[38;5;129;01mis\u001b[39;00m \u001b[38;5;28;01mNone\u001b[39;00m \u001b[38;5;129;01mand\u001b[39;00m parse_float \u001b[38;5;129;01mis\u001b[39;00m \u001b[38;5;28;01mNone\u001b[39;00m \u001b[38;5;129;01mand\u001b[39;00m\n\u001b[1;32m    345\u001b[0m         parse_constant \u001b[38;5;129;01mis\u001b[39;00m \u001b[38;5;28;01mNone\u001b[39;00m \u001b[38;5;129;01mand\u001b[39;00m object_pairs_hook \u001b[38;5;129;01mis\u001b[39;00m \u001b[38;5;28;01mNone\u001b[39;00m \u001b[38;5;129;01mand\u001b[39;00m \u001b[38;5;129;01mnot\u001b[39;00m kw):\n\u001b[0;32m--> 346\u001b[0m     \u001b[38;5;28;01mreturn\u001b[39;00m \u001b[43m_default_decoder\u001b[49m\u001b[38;5;241;43m.\u001b[39;49m\u001b[43mdecode\u001b[49m\u001b[43m(\u001b[49m\u001b[43ms\u001b[49m\u001b[43m)\u001b[49m\n\u001b[1;32m    347\u001b[0m \u001b[38;5;28;01mif\u001b[39;00m \u001b[38;5;28mcls\u001b[39m \u001b[38;5;129;01mis\u001b[39;00m \u001b[38;5;28;01mNone\u001b[39;00m:\n",
      "File \u001b[0;32m~/miniforge-pypy3/envs/py10/lib/python3.10/json/decoder.py:337\u001b[0m, in \u001b[0;36mJSONDecoder.decode\u001b[0;34m(self, s, _w)\u001b[0m\n\u001b[1;32m    333\u001b[0m \u001b[38;5;250m\u001b[39m\u001b[38;5;124;03m\"\"\"Return the Python representation of ``s`` (a ``str`` instance\u001b[39;00m\n\u001b[1;32m    334\u001b[0m \u001b[38;5;124;03mcontaining a JSON document).\u001b[39;00m\n\u001b[1;32m    335\u001b[0m \n\u001b[1;32m    336\u001b[0m \u001b[38;5;124;03m\"\"\"\u001b[39;00m\n\u001b[0;32m--> 337\u001b[0m obj, end \u001b[38;5;241m=\u001b[39m \u001b[38;5;28;43mself\u001b[39;49m\u001b[38;5;241;43m.\u001b[39;49m\u001b[43mraw_decode\u001b[49m\u001b[43m(\u001b[49m\u001b[43ms\u001b[49m\u001b[43m,\u001b[49m\u001b[43m \u001b[49m\u001b[43midx\u001b[49m\u001b[38;5;241;43m=\u001b[39;49m\u001b[43m_w\u001b[49m\u001b[43m(\u001b[49m\u001b[43ms\u001b[49m\u001b[43m,\u001b[49m\u001b[43m \u001b[49m\u001b[38;5;241;43m0\u001b[39;49m\u001b[43m)\u001b[49m\u001b[38;5;241;43m.\u001b[39;49m\u001b[43mend\u001b[49m\u001b[43m(\u001b[49m\u001b[43m)\u001b[49m\u001b[43m)\u001b[49m\n\u001b[1;32m    338\u001b[0m end \u001b[38;5;241m=\u001b[39m _w(s, end)\u001b[38;5;241m.\u001b[39mend()\n",
      "File \u001b[0;32m~/miniforge-pypy3/envs/py10/lib/python3.10/json/decoder.py:355\u001b[0m, in \u001b[0;36mJSONDecoder.raw_decode\u001b[0;34m(self, s, idx)\u001b[0m\n\u001b[1;32m    354\u001b[0m \u001b[38;5;28;01mexcept\u001b[39;00m \u001b[38;5;167;01mStopIteration\u001b[39;00m \u001b[38;5;28;01mas\u001b[39;00m err:\n\u001b[0;32m--> 355\u001b[0m     \u001b[38;5;28;01mraise\u001b[39;00m JSONDecodeError(\u001b[38;5;124m\"\u001b[39m\u001b[38;5;124mExpecting value\u001b[39m\u001b[38;5;124m\"\u001b[39m, s, err\u001b[38;5;241m.\u001b[39mvalue) \u001b[38;5;28;01mfrom\u001b[39;00m \u001b[38;5;28;01mNone\u001b[39;00m\n\u001b[1;32m    356\u001b[0m \u001b[38;5;28;01mreturn\u001b[39;00m obj, end\n",
      "\u001b[0;31mJSONDecodeError\u001b[0m: Expecting value: line 1 column 1 (char 0)",
      "\nDuring handling of the above exception, another exception occurred:\n",
      "\u001b[0;31mJSONDecodeError\u001b[0m                           Traceback (most recent call last)",
      "File \u001b[0;32m~/miniforge-pypy3/envs/py10/lib/python3.10/site-packages/zeno_client/client.py:26\u001b[0m, in \u001b[0;36m_handle_error_response\u001b[0;34m(response)\u001b[0m\n\u001b[1;32m     25\u001b[0m \u001b[38;5;28;01mtry\u001b[39;00m:\n\u001b[0;32m---> 26\u001b[0m     \u001b[38;5;28;01mraise\u001b[39;00m APIError(\u001b[43mresponse\u001b[49m\u001b[38;5;241;43m.\u001b[39;49m\u001b[43mjson\u001b[49m\u001b[43m(\u001b[49m\u001b[43m)\u001b[49m[\u001b[38;5;124m\"\u001b[39m\u001b[38;5;124mdetail\u001b[39m\u001b[38;5;124m\"\u001b[39m], response\u001b[38;5;241m.\u001b[39mstatus_code)\n\u001b[1;32m     27\u001b[0m \u001b[38;5;28;01mexcept\u001b[39;00m JSONDecodeError:\n",
      "File \u001b[0;32m~/miniforge-pypy3/envs/py10/lib/python3.10/site-packages/requests/models.py:975\u001b[0m, in \u001b[0;36mResponse.json\u001b[0;34m(self, **kwargs)\u001b[0m\n\u001b[1;32m    972\u001b[0m \u001b[38;5;28;01mexcept\u001b[39;00m JSONDecodeError \u001b[38;5;28;01mas\u001b[39;00m e:\n\u001b[1;32m    973\u001b[0m     \u001b[38;5;66;03m# Catch JSON-related errors and raise as requests.JSONDecodeError\u001b[39;00m\n\u001b[1;32m    974\u001b[0m     \u001b[38;5;66;03m# This aliases json.JSONDecodeError and simplejson.JSONDecodeError\u001b[39;00m\n\u001b[0;32m--> 975\u001b[0m     \u001b[38;5;28;01mraise\u001b[39;00m RequestsJSONDecodeError(e\u001b[38;5;241m.\u001b[39mmsg, e\u001b[38;5;241m.\u001b[39mdoc, e\u001b[38;5;241m.\u001b[39mpos)\n",
      "\u001b[0;31mJSONDecodeError\u001b[0m: Expecting value: line 1 column 1 (char 0)",
      "\nDuring handling of the above exception, another exception occurred:\n",
      "\u001b[0;31mAPIError\u001b[0m                                  Traceback (most recent call last)",
      "Cell \u001b[0;32mIn[20], line 36\u001b[0m\n\u001b[1;32m     32\u001b[0m \u001b[38;5;66;03m# else:\u001b[39;00m\n\u001b[1;32m     33\u001b[0m \u001b[38;5;66;03m#     output_df = get_baseline_df(combined_data)\u001b[39;00m\n\u001b[1;32m     34\u001b[0m \u001b[38;5;66;03m# break\u001b[39;00m\n\u001b[1;32m     35\u001b[0m \u001b[38;5;28;01mif\u001b[39;00m top_k \u001b[38;5;241m==\u001b[39m \u001b[38;5;124m'\u001b[39m\u001b[38;5;124mbaseline\u001b[39m\u001b[38;5;124m'\u001b[39m:\n\u001b[0;32m---> 36\u001b[0m     \u001b[43mproject\u001b[49m\u001b[38;5;241;43m.\u001b[39;49m\u001b[43mupload_system\u001b[49m\u001b[43m(\u001b[49m\n\u001b[1;32m     37\u001b[0m \u001b[43m    \u001b[49m\u001b[43moutput_df\u001b[49m\u001b[43m,\u001b[49m\u001b[43m \u001b[49m\u001b[43mname\u001b[49m\u001b[38;5;241;43m=\u001b[39;49m\u001b[43m \u001b[49m\u001b[43m(\u001b[49m\u001b[43mreader_model\u001b[49m\u001b[43m \u001b[49m\u001b[38;5;241;43m+\u001b[39;49m\u001b[43m \u001b[49m\u001b[38;5;124;43m'\u001b[39;49m\u001b[38;5;124;43m \u001b[39;49m\u001b[38;5;124;43m'\u001b[39;49m\u001b[43m \u001b[49m\u001b[38;5;241;43m+\u001b[39;49m\u001b[43m \u001b[49m\u001b[43mtop_k\u001b[49m\u001b[43m)\u001b[49m\u001b[43m,\u001b[49m\u001b[43m \u001b[49m\u001b[43mid_column\u001b[49m\u001b[38;5;241;43m=\u001b[39;49m\u001b[38;5;124;43m\"\u001b[39;49m\u001b[38;5;124;43mid\u001b[39;49m\u001b[38;5;124;43m\"\u001b[39;49m\u001b[43m,\u001b[49m\u001b[43m \u001b[49m\u001b[43moutput_column\u001b[49m\u001b[38;5;241;43m=\u001b[39;49m\u001b[38;5;124;43m\"\u001b[39;49m\u001b[38;5;124;43moutput\u001b[39;49m\u001b[38;5;124;43m\"\u001b[39;49m\n\u001b[1;32m     38\u001b[0m \u001b[43m\u001b[49m\u001b[43m)\u001b[49m\n\u001b[1;32m     39\u001b[0m \u001b[38;5;28;01melse\u001b[39;00m:\n\u001b[1;32m     40\u001b[0m     project\u001b[38;5;241m.\u001b[39mupload_system(\n\u001b[1;32m     41\u001b[0m         output_df, name\u001b[38;5;241m=\u001b[39m (retriever_model \u001b[38;5;241m+\u001b[39m \u001b[38;5;124m'\u001b[39m\u001b[38;5;124m \u001b[39m\u001b[38;5;124m'\u001b[39m \u001b[38;5;241m+\u001b[39m reader_model \u001b[38;5;241m+\u001b[39m \u001b[38;5;124m'\u001b[39m\u001b[38;5;124m \u001b[39m\u001b[38;5;124m'\u001b[39m \u001b[38;5;241m+\u001b[39m top_k), id_column\u001b[38;5;241m=\u001b[39m\u001b[38;5;124m\"\u001b[39m\u001b[38;5;124mid\u001b[39m\u001b[38;5;124m\"\u001b[39m, output_column\u001b[38;5;241m=\u001b[39m\u001b[38;5;124m\"\u001b[39m\u001b[38;5;124moutput\u001b[39m\u001b[38;5;124m\"\u001b[39m\n\u001b[1;32m     42\u001b[0m     )\n",
      "File \u001b[0;32m~/miniforge-pypy3/envs/py10/lib/python3.10/site-packages/zeno_client/client.py:203\u001b[0m, in \u001b[0;36mZenoProject.upload_system\u001b[0;34m(self, df, name, id_column, output_column)\u001b[0m\n\u001b[1;32m    190\u001b[0m response \u001b[38;5;241m=\u001b[39m requests\u001b[38;5;241m.\u001b[39mpost(\n\u001b[1;32m    191\u001b[0m     \u001b[38;5;124mf\u001b[39m\u001b[38;5;124m\"\u001b[39m\u001b[38;5;132;01m{\u001b[39;00m\u001b[38;5;28mself\u001b[39m\u001b[38;5;241m.\u001b[39mendpoint\u001b[38;5;132;01m}\u001b[39;00m\u001b[38;5;124m/api/system-schema\u001b[39m\u001b[38;5;124m\"\u001b[39m,\n\u001b[1;32m    192\u001b[0m     data\u001b[38;5;241m=\u001b[39m{\n\u001b[0;32m   (...)\u001b[0m\n\u001b[1;32m    200\u001b[0m     verify\u001b[38;5;241m=\u001b[39m\u001b[38;5;28;01mTrue\u001b[39;00m,\n\u001b[1;32m    201\u001b[0m )\n\u001b[1;32m    202\u001b[0m \u001b[38;5;28;01mif\u001b[39;00m response\u001b[38;5;241m.\u001b[39mstatus_code \u001b[38;5;241m!=\u001b[39m \u001b[38;5;241m200\u001b[39m:\n\u001b[0;32m--> 203\u001b[0m     \u001b[43m_handle_error_response\u001b[49m\u001b[43m(\u001b[49m\u001b[43mresponse\u001b[49m\u001b[43m)\u001b[49m\n\u001b[1;32m    205\u001b[0m column_names \u001b[38;5;241m=\u001b[39m response\u001b[38;5;241m.\u001b[39mjson()\n\u001b[1;32m    206\u001b[0m pa_table \u001b[38;5;241m=\u001b[39m pa_table\u001b[38;5;241m.\u001b[39mrename_columns(column_names)\n",
      "File \u001b[0;32m~/miniforge-pypy3/envs/py10/lib/python3.10/site-packages/zeno_client/client.py:28\u001b[0m, in \u001b[0;36m_handle_error_response\u001b[0;34m(response)\u001b[0m\n\u001b[1;32m     26\u001b[0m     \u001b[38;5;28;01mraise\u001b[39;00m APIError(response\u001b[38;5;241m.\u001b[39mjson()[\u001b[38;5;124m\"\u001b[39m\u001b[38;5;124mdetail\u001b[39m\u001b[38;5;124m\"\u001b[39m], response\u001b[38;5;241m.\u001b[39mstatus_code)\n\u001b[1;32m     27\u001b[0m \u001b[38;5;28;01mexcept\u001b[39;00m JSONDecodeError:\n\u001b[0;32m---> 28\u001b[0m     \u001b[38;5;28;01mraise\u001b[39;00m APIError(response\u001b[38;5;241m.\u001b[39mtext, response\u001b[38;5;241m.\u001b[39mstatus_code)\n",
      "\u001b[0;31mAPIError\u001b[0m: Internal Server Error"
     ]
    }
   ],
   "source": [
    "reader_models = ['llama_7b', 'flanUl2']\n",
    "# reader_models = ['flanT5']\n",
    "retriever_models = ['bm25', 'colbert']\n",
    "# retriever_models = ['colbert']\n",
    "top_ks= [\"baseline\", \"top1\", \"top2\", \"top3\", \"top5\", \"top10\", \"top20\", \"top30\", \"top50\"]\n",
    "# top_ks = ['top1']\n",
    "# top_k = 'baseline'\n",
    "# truncate_stats = {'flanT5': [], 'llama': []}\n",
    "# for retriever_model in retriever_models:\n",
    "    # t5  = []\n",
    "    # llama = []\n",
    "    # with open(f'/data/user_data/jhsia2/dbqa/retriever_results/predictions/{retriever_model}/{dataset}-truncation.json', 'r') as file:\n",
    "    #     docs = json.load(file)\n",
    "    #     for d in docs:\n",
    "    #         truncate_stats['flanT5'].append({'id': d['id'], 'num_docs': d['t5_truncation']})\n",
    "    #         truncate_stats['llama'].append({'id': d['id'], 'num_docs': d['llama_truncation']})\n",
    "for retriever_model in retriever_models:\n",
    "    for reader_model in reader_models:\n",
    "    \n",
    "        print('retriever', retriever_model)\n",
    "        print('reader', reader_model)\n",
    "        for top_k in top_ks:\n",
    "            print(top_k)\n",
    "            data = []\n",
    "            with open(os.path.join(results_dir, reader_model, dataset, retriever_model, f\"{top_k}/reader_results_zeno.json\"), \"r\") as f:\n",
    "                data = data + json.load(f)\n",
    "                    \n",
    "            combined_data = combine_gold_and_compiled(data, gold_data)\n",
    "            # combined_data = combine_truncated_stats(combined_data, truncate_stats[reader_model])\n",
    "            # if (top_k != 'baseline'):\n",
    "            output_df = get_reader_df(top_k, combined_data)\n",
    "            # else:\n",
    "            #     output_df = get_baseline_df(combined_data)\n",
    "            # break\n",
    "            if top_k == 'baseline':\n",
    "                project.upload_system(\n",
    "                output_df, name= (reader_model + ' ' + top_k), id_column=\"id\", output_column=\"output\"\n",
    "            )\n",
    "            else:\n",
    "                project.upload_system(\n",
    "                    output_df, name= (retriever_model + ' ' + reader_model + ' ' + top_k), id_column=\"id\", output_column=\"output\"\n",
    "                )\n",
    "    # if (top_k == 'top1'):\n",
    "    #     break"
   ]
  },
  {
   "cell_type": "code",
   "execution_count": null,
   "metadata": {},
   "outputs": [],
   "source": []
  }
 ],
 "metadata": {
  "kernelspec": {
   "display_name": "compare",
   "language": "python",
   "name": "python3"
  },
  "language_info": {
   "codemirror_mode": {
    "name": "ipython",
    "version": 3
   },
   "file_extension": ".py",
   "mimetype": "text/x-python",
   "name": "python",
   "nbconvert_exporter": "python",
   "pygments_lexer": "ipython3",
   "version": "3.10.13"
  }
 },
 "nbformat": 4,
 "nbformat_minor": 2
}
