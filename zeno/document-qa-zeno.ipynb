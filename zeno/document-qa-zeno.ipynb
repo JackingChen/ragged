{
 "cells": [
  {
   "cell_type": "code",
   "execution_count": 1,
   "metadata": {},
   "outputs": [
    {
     "data": {
      "text/plain": [
       "False"
      ]
     },
     "execution_count": 1,
     "metadata": {},
     "output_type": "execute_result"
    }
   ],
   "source": [
    "from zeno_client import ZenoClient, ZenoMetric\n",
    "import pandas as pd\n",
    "import json\n",
    "import os\n",
    "from dotenv import load_dotenv\n",
    "\n",
    "load_dotenv(override=True)"
   ]
  },
  {
   "cell_type": "code",
   "execution_count": 2,
   "metadata": {},
   "outputs": [],
   "source": [
    "root_dir = '/data/user_data/jhsia2/dbqa'\n",
    "results_dir = os.path.join(root_dir, 'reader_results')\n",
    "dataset = 'nq'\n",
    "client = ZenoClient('zen_EZ7LuqItWgObcQmIvNZVytvhtTh8JMs2HrSzzfXsiIg')\n"
   ]
  },
  {
   "cell_type": "code",
   "execution_count": 3,
   "metadata": {},
   "outputs": [],
   "source": [
    "\n",
    "with open(os.path.join(root_dir, 'data', f\"gold_{dataset}_zeno_file.json\"), \"r\") as f:\n",
    "    gold_data = json.load(f)\n",
    "gold_data = sorted(gold_data, key=lambda x: x[\"id\"])"
   ]
  },
  {
   "cell_type": "code",
   "execution_count": 4,
   "metadata": {},
   "outputs": [],
   "source": [
    "def combine_gold_and_compiled(output_data, gold_data):\n",
    "    gold_context_set = [ [out['retrieved'][0]['text'] for out in gd['output']]   for gd in gold_data]\n",
    "    gold_answer_set = [ [out['answer'] for out in gd['output']]   for gd in gold_data]\n",
    "    for i, od in enumerate(output_data):\n",
    "        od['gold_answer_set'] = gold_answer_set[i]\n",
    "        od['gold_context_set'] = gold_context_set[i]\n",
    "        # od['gold_context'] = {'wiki_id_set': gd['output']['wiki_id_set'],\\\n",
    "        #                       'wiki_par_id_set': gd['output']['wiki_par_id_set']}\n",
    "    return output_data"
   ]
  },
  {
   "cell_type": "code",
   "execution_count": 5,
   "metadata": {},
   "outputs": [
    {
     "name": "stdout",
     "output_type": "stream",
     "text": [
      "Successfully updated project.\n",
      "Access your project at  https://hub.zenoml.com/project/jhsia2/Document%20QA\n"
     ]
    }
   ],
   "source": [
    "project = client.create_project(\n",
    "    name=\"Document QA\",\n",
    "    view={\n",
    "        \"data\": {\"type\": \"text\", \n",
    "                 \"label\": \"question:\"\n",
    "                },\n",
    "        \"label\": {\"type\": \"text\"},\n",
    "        \"output\": {\n",
    "            \"type\": \"vstack\",\n",
    "            \"keys\": {\n",
    "                \"gold answer set\": {\"type\": \"text\", \"label\": \"gold answer set: \"},\n",
    "                \"answer\": {\"type\": \"text\", \"label\": \"reader answer: \"},\n",
    "                \"retrieved context\": {\n",
    "                    \"type\": \"list\",\n",
    "                    \"elements\": {\n",
    "                        \"type\": \"vstack\",\n",
    "                        \"keys\": {\n",
    "                            \"score\": {\"type\": \"text\", \"label\": \"score: \"},\n",
    "                            \"wiki_id\": {\"type\": \"markdown\"},\n",
    "                            \"text\": {\"type\": \"text\", \"label\": \"text: \"},\n",
    "                            \"wiki_id_match\": {\"type\": \"text\", \"label\": \"wiki_id match: \"},\n",
    "                            \"wiki_par_id_match\": {\"type\": \"text\", \"label\": \"wiki_par_id match: \"}\n",
    "                        },\n",
    "                    },\n",
    "                    \"collapsible\": \"bottom\",\n",
    "                    \"border\": True,\n",
    "                    \"pad\": True,\n",
    "                },\n",
    "            },\n",
    "        },\n",
    "    },\n",
    "    description=\"Document-grounded question answering with Wikipedia\",\n",
    "    metrics=[\n",
    "        ZenoMetric(name=\"max retrieved score\", type=\"mean\", columns=[\"max_score\"]),\n",
    "        ZenoMetric(name=\"avg retrieved score\", type=\"mean\", columns=[\"avg_score\"]),\n",
    "        ZenoMetric(name=\"exact_match\", type=\"mean\", columns=[\"exact_match\"]),\n",
    "        ZenoMetric(name=\"f1\", type=\"mean\", columns=[\"f1\"]),\n",
    "        ZenoMetric(name=\"substring_match\", type=\"mean\", columns=[\"substring_match\"]),\n",
    "        ZenoMetric(name=\"any wiki_id_match\", type=\"mean\", columns=[\"any wiki_id_match\"]),\n",
    "        ZenoMetric(name=\"any wiki_par_id_match\", type=\"mean\", columns=[\"any wiki_par_id_match\"]),\n",
    "        ZenoMetric(name=\"avg wiki_id_match\", type=\"mean\", columns=[\"avg wiki_id_match\"]),\n",
    "        ZenoMetric(name=\"avg wiki_par_id_match\", type=\"mean\", columns=[\"avg wiki_par_id_match\"]),\n",
    "    ],\n",
    ")"
   ]
  },
  {
   "cell_type": "code",
   "execution_count": 6,
   "metadata": {},
   "outputs": [
    {
     "data": {
      "application/vnd.jupyter.widget-view+json": {
       "model_id": "ac3940067e2a410ab6338fbf85f0a0a0",
       "version_major": 2,
       "version_minor": 0
      },
      "text/plain": [
       "  0%|          | 0/1 [00:00<?, ?it/s]"
      ]
     },
     "metadata": {},
     "output_type": "display_data"
    },
    {
     "name": "stdout",
     "output_type": "stream",
     "text": [
      "Successfully uploaded data\n"
     ]
    }
   ],
   "source": [
    "data_df = pd.DataFrame({\"question\": [d[\"input\"] for d in gold_data], 'id': [d['id'] for d in gold_data]})\n",
    "project.upload_dataset(data_df, id_column=\"id\", data_column=\"question\")"
   ]
  },
  {
   "cell_type": "code",
   "execution_count": 6,
   "metadata": {},
   "outputs": [],
   "source": [
    "# with open(os.path.join(root_dir, 'data', f\"gold-{dataset}-dev-kilt.json\"), \"r\") as f:\n",
    "#     gold_data = json.load(f)\n",
    "# gold_data = sorted(gold_data, key=lambda x: x[\"id\"])"
   ]
  },
  {
   "cell_type": "code",
   "execution_count": 17,
   "metadata": {},
   "outputs": [],
   "source": [
    "def get_baseline_df(combined_data):\n",
    "    return pd.DataFrame(\n",
    "        {\n",
    "            \"question\": [d['input'] for d in combined_data],\n",
    "            \"id\": [d['id'] for d in combined_data],\n",
    "            \"output\": [\n",
    "                json.dumps(\n",
    "                    {   \n",
    "                        \"gold answer set\": ', '.join(d['gold_answer_set']),\n",
    "                        # \"gold context\": d['gold_context_set'],\n",
    "                        \"answer\": d[\"output\"][\"answer\"],\n",
    "                        \"retrieved context\": [\n",
    "                            {\n",
    "                                \"wiki_par_id\": None,\n",
    "                                \"text\": None,\n",
    "                                \"score\": None,\n",
    "                                \"wiki_id_match\": None,\n",
    "                                \"wiki_par_id_match\": None\n",
    "                            }\n",
    "                        ],\n",
    "                    }\n",
    "                )\n",
    "                for d in combined_data\n",
    "            ],\n",
    "            \"max_score\": [\n",
    "\n",
    "                None for d in combined_data\n",
    "            ],\n",
    "            \"avg_score\": [\n",
    "                None for d in combined_data\n",
    "            ],\n",
    "            \"f1\": [\n",
    "                d[\"output\"][\"answer_evaluation\"][\"f1\"] for d in combined_data\n",
    "            ],\n",
    "            \"exact_match\": [\n",
    "                d[\"output\"][\"answer_evaluation\"][\"exact_match\"] for d in combined_data\n",
    "            ],\n",
    "            \"substring_match\": [\n",
    "                d[\"output\"][\"answer_evaluation\"][\"substring_match\"] for d in combined_data\n",
    "            ],\n",
    "            \"any wiki_id_match\": [\n",
    "                None for d in combined_data\n",
    "            ],\n",
    "            \"any wiki_par_id_match\": [\n",
    "                None for d in combined_data\n",
    "            ],\n",
    "            \"avg wiki_id_match\": [\n",
    "                None for d in combined_data\n",
    "            ],\n",
    "            \"avg wiki_par_id_match\": [\n",
    "                None for d in combined_data\n",
    "            ]\n",
    "        }\n",
    "    )\n",
    "    # return output_df\n",
    "# output_df[\"id\"] = "
   ]
  },
  {
   "cell_type": "code",
   "execution_count": 11,
   "metadata": {},
   "outputs": [],
   "source": [
    "import numpy as np\n",
    "def get_reader_df(combined_data):\n",
    "    return pd.DataFrame(\n",
    "        {\n",
    "            \"question\": [d['input'] for d in combined_data],\n",
    "            \"id\": [d['id'] for d in combined_data],\n",
    "            \"output\": [\n",
    "                json.dumps(\n",
    "                    {   \n",
    "                        \"gold answer set\": ', '.join(d['gold_answer_set']),\n",
    "                        # \"gold context\": d['gold_context'],\n",
    "                        \"answer\": d[\"output\"][\"answer\"],\n",
    "                        \"retrieved context\": [\n",
    "                            {\n",
    "                                \"wiki_id\": \"[{idx}]({url})\".format(\n",
    "                                    idx=r[\"wiki_id\"],\n",
    "                                    url=\"https://en.wikipedia.org/?curid=\"\n",
    "                                    + r[\"wiki_id\"],\n",
    "                                ),\n",
    "                                \"text\": r[\"text\"],\n",
    "                                \"score\": r[\"score\"],\n",
    "                                \"wiki_id_match\": r[\"wiki_id_match\"],\n",
    "                                \"wiki_par_id_match\": r[\"wiki_par_id_match\"]\n",
    "                            }\n",
    "                        for r in d[\"output\"][\"retrieved\"]\n",
    "                        ],\n",
    "                    }\n",
    "                )\n",
    "                for d in combined_data\n",
    "            ],\n",
    "            \"max_score\": [\n",
    "\n",
    "                d[\"output\"][\"retrieved\"][0][\"score\"] for d in combined_data\n",
    "            ],\n",
    "            \"avg_score\": [\n",
    "                np.mean([r[\"score\"] for r in d[\"output\"][\"retrieved\"]]) for d in combined_data\n",
    "            ],\n",
    "            \"f1\": [\n",
    "                d[\"output\"][\"answer_evaluation\"][\"f1\"] for d in combined_data\n",
    "            ],\n",
    "            \"exact_match\": [\n",
    "                d[\"output\"][\"answer_evaluation\"][\"exact_match\"] for d in combined_data\n",
    "            ],\n",
    "            \"substring_match\": [\n",
    "                d[\"output\"][\"answer_evaluation\"][\"substring_match\"] for d in combined_data\n",
    "            ],\n",
    "            \"avg wiki_id_match\": [\n",
    "                np.mean([r[\"wiki_id_match\"] for r in d[\"output\"][\"retrieved\"]]) for d in combined_data\n",
    "            ],\n",
    "            \"avg wiki_par_id_match\": [\n",
    "                np.mean([r[\"wiki_par_id_match\"] for r in d[\"output\"][\"retrieved\"]]) for d in combined_data\n",
    "            ],\n",
    "            \"any wiki_id_match\": [\n",
    "                d[\"output\"][\"summary context evaluation\"][\"wiki_id_match\"] for d in combined_data\n",
    "            ],\n",
    "            \"any wiki_par_id_match\": [\n",
    "                d[\"output\"][\"summary context evaluation\"][\"wiki_par_id_match\"] for d in combined_data\n",
    "            ]\n",
    "        }\n",
    "    )\n",
    "    # return output_df\n",
    "# output_df[\"id\"] = "
   ]
  },
  {
   "cell_type": "code",
   "execution_count": 12,
   "metadata": {},
   "outputs": [
    {
     "name": "stdout",
     "output_type": "stream",
     "text": [
      "top1\n"
     ]
    },
    {
     "data": {
      "application/vnd.jupyter.widget-view+json": {
       "model_id": "42bde085f29a447eb40c14159820b3a9",
       "version_major": 2,
       "version_minor": 0
      },
      "text/plain": [
       "  0%|          | 0/2 [00:00<?, ?it/s]"
      ]
     },
     "metadata": {},
     "output_type": "display_data"
    },
    {
     "name": "stdout",
     "output_type": "stream",
     "text": [
      "Successfully uploaded system\n",
      "top2\n"
     ]
    },
    {
     "data": {
      "application/vnd.jupyter.widget-view+json": {
       "model_id": "574d1808fc8a4dfaaea2c69dbca0df43",
       "version_major": 2,
       "version_minor": 0
      },
      "text/plain": [
       "  0%|          | 0/4 [00:00<?, ?it/s]"
      ]
     },
     "metadata": {},
     "output_type": "display_data"
    },
    {
     "name": "stdout",
     "output_type": "stream",
     "text": [
      "Successfully uploaded system\n",
      "top3\n"
     ]
    },
    {
     "data": {
      "application/vnd.jupyter.widget-view+json": {
       "model_id": "26a5097e86e14375ae99d239534e85e4",
       "version_major": 2,
       "version_minor": 0
      },
      "text/plain": [
       "  0%|          | 0/5 [00:00<?, ?it/s]"
      ]
     },
     "metadata": {},
     "output_type": "display_data"
    },
    {
     "name": "stdout",
     "output_type": "stream",
     "text": [
      "Successfully uploaded system\n",
      "top5\n"
     ]
    },
    {
     "data": {
      "application/vnd.jupyter.widget-view+json": {
       "model_id": "121b39273ceb4e7693710d08171c8ffb",
       "version_major": 2,
       "version_minor": 0
      },
      "text/plain": [
       "  0%|          | 0/9 [00:00<?, ?it/s]"
      ]
     },
     "metadata": {},
     "output_type": "display_data"
    },
    {
     "name": "stdout",
     "output_type": "stream",
     "text": [
      "Successfully uploaded system\n",
      "top10\n"
     ]
    },
    {
     "data": {
      "application/vnd.jupyter.widget-view+json": {
       "model_id": "964af7bfa760408e98ddddf68f8db642",
       "version_major": 2,
       "version_minor": 0
      },
      "text/plain": [
       "  0%|          | 0/17 [00:00<?, ?it/s]"
      ]
     },
     "metadata": {},
     "output_type": "display_data"
    },
    {
     "name": "stdout",
     "output_type": "stream",
     "text": [
      "Successfully uploaded system\n",
      "top20\n"
     ]
    },
    {
     "data": {
      "application/vnd.jupyter.widget-view+json": {
       "model_id": "397cb61fa8cd47408ace560103a70446",
       "version_major": 2,
       "version_minor": 0
      },
      "text/plain": [
       "  0%|          | 0/30 [00:00<?, ?it/s]"
      ]
     },
     "metadata": {},
     "output_type": "display_data"
    },
    {
     "name": "stdout",
     "output_type": "stream",
     "text": [
      "Successfully uploaded system\n",
      "top30\n"
     ]
    },
    {
     "data": {
      "application/vnd.jupyter.widget-view+json": {
       "model_id": "d7490340bae94cd388b37a353e77d84b",
       "version_major": 2,
       "version_minor": 0
      },
      "text/plain": [
       "  0%|          | 0/51 [00:00<?, ?it/s]"
      ]
     },
     "metadata": {},
     "output_type": "display_data"
    },
    {
     "name": "stdout",
     "output_type": "stream",
     "text": [
      "Successfully uploaded system\n",
      "top50\n"
     ]
    },
    {
     "data": {
      "application/vnd.jupyter.widget-view+json": {
       "model_id": "2a2373f01a4b46b080f63fa93d54b092",
       "version_major": 2,
       "version_minor": 0
      },
      "text/plain": [
       "  0%|          | 0/82 [00:00<?, ?it/s]"
      ]
     },
     "metadata": {},
     "output_type": "display_data"
    },
    {
     "name": "stdout",
     "output_type": "stream",
     "text": [
      "Successfully uploaded system\n"
     ]
    }
   ],
   "source": [
    "reader_model = 'flanT5'\n",
    "retriever_model = 'bm25'\n",
    "# dataset = 'hotpotqa'\n",
    "top_ks= [\"baseline\", \"top1\", \"top2\", \"top3\", \"top5\", \"top10\", \"top20\", \"top30\", \"top50\"]\n",
    "for top_k in top_ks:\n",
    "    print(top_k)\n",
    "    with open(os.path.join(results_dir, reader_model, dataset, retriever_model, f\"exp2/{top_k}/reader_results_zeno.json\"), \"r\") as f:\n",
    "        data = json.load(f)\n",
    "    combined_data = combine_gold_and_compiled(data, gold_data)\n",
    "    if (top_k != 'baseline'):\n",
    "        output_df = get_reader_df(combined_data)\n",
    "    else:\n",
    "        output_df = get_baseline_df(combined_data)\n",
    "    # break\n",
    "    \n",
    "    project.upload_system(\n",
    "        output_df, name= (dataset + ' ' + retriever_model + ' ' + reader_model + ' ' + top_k), id_column=\"id\", output_column=\"output\"\n",
    "    )"
   ]
  },
  {
   "cell_type": "code",
   "execution_count": 19,
   "metadata": {},
   "outputs": [],
   "source": [
    "# reader_model = 'flanT5'\n",
    "# retriever_model = 'bm25'\n",
    "# dataset = 'nq'\n",
    "# top_k = 'baseline'\n",
    "# print(top_k)\n",
    "# with open(os.path.join(results_dir, reader_model, dataset, retriever_model, f\"exp2/{top_k}/reader_results_zeno.json\"), \"r\") as f:\n",
    "#     data = json.load(f)\n",
    "# combined_data = combine_gold_and_compiled(data, gold_data)\n",
    "# output_df = get_baseline_df(combined_data)\n",
    "\n",
    "# project.upload_system(\n",
    "#     output_df, name= (dataset + ' ' + reader_model + ' ' + top_k), id_column=\"id\", output_column=\"output\"\n",
    "#     )"
   ]
  },
  {
   "cell_type": "code",
   "execution_count": 39,
   "metadata": {},
   "outputs": [
    {
     "data": {
      "text/plain": [
       "[]"
      ]
     },
     "execution_count": 39,
     "metadata": {},
     "output_type": "execute_result"
    }
   ],
   "source": []
  },
  {
   "cell_type": "code",
   "execution_count": null,
   "metadata": {},
   "outputs": [],
   "source": []
  }
 ],
 "metadata": {
  "kernelspec": {
   "display_name": "compare",
   "language": "python",
   "name": "python3"
  },
  "language_info": {
   "codemirror_mode": {
    "name": "ipython",
    "version": 3
   },
   "file_extension": ".py",
   "mimetype": "text/x-python",
   "name": "python",
   "nbconvert_exporter": "python",
   "pygments_lexer": "ipython3",
   "version": "3.10.13"
  }
 },
 "nbformat": 4,
 "nbformat_minor": 2
}
