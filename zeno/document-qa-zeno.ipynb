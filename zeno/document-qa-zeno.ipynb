{
 "cells": [
  {
   "cell_type": "code",
   "execution_count": 53,
   "metadata": {},
   "outputs": [
    {
     "data": {
      "text/plain": [
       "False"
      ]
     },
     "execution_count": 53,
     "metadata": {},
     "output_type": "execute_result"
    }
   ],
   "source": [
    "from zeno_client import ZenoClient, ZenoMetric\n",
    "import pandas as pd\n",
    "import json\n",
    "import os\n",
    "from dotenv import load_dotenv\n",
    "\n",
    "load_dotenv(override=True)"
   ]
  },
  {
   "cell_type": "code",
   "execution_count": 54,
   "metadata": {},
   "outputs": [],
   "source": [
    "root_dir = '/data/user_data/jhsia2/dbqa'\n",
    "results_dir = os.path.join(root_dir, 'reader_results')\n",
    "\n",
    "client = ZenoClient('zen_EZ7LuqItWgObcQmIvNZVytvhtTh8JMs2HrSzzfXsiIg')\n"
   ]
  },
  {
   "cell_type": "code",
   "execution_count": 55,
   "metadata": {},
   "outputs": [],
   "source": [
    "with open(os.path.join(root_dir, 'data', \"gold_nq_zeno_file.json\"), \"r\") as f:\n",
    "    gold_data = json.load(f)\n",
    "gold_data = sorted(gold_data, key=lambda x: x[\"id\"])"
   ]
  },
  {
   "cell_type": "code",
   "execution_count": 56,
   "metadata": {},
   "outputs": [],
   "source": [
    "def combine_gold_and_compiled(output_data, gold_data):\n",
    "    for od, gd in zip(output_data, gold_data):\n",
    "        od['gold_answer_set'] = gd['output']['answer_set']\n",
    "        od['gold_context'] = {'wiki_id_set': gd['output']['wiki_id_set'],\\\n",
    "                              'wiki_par_id_set': gd['output']['wiki_par_id_set']}\n",
    "    return output_data"
   ]
  },
  {
   "cell_type": "code",
   "execution_count": 63,
   "metadata": {},
   "outputs": [
    {
     "name": "stdout",
     "output_type": "stream",
     "text": [
      "Successfully updated project.\n",
      "Access your project at  https://hub.zenoml.com/project/jhsia2/Document%20QA\n"
     ]
    }
   ],
   "source": [
    "project = client.create_project(\n",
    "    name=\"Document QA\",\n",
    "    view={\n",
    "        \"data\": {\"type\": \"text\", \n",
    "                 \"label\": \"question:\"\n",
    "                },\n",
    "        \"label\": {\"type\": \"text\"},\n",
    "        \"output\": {\n",
    "            \"type\": \"vstack\",\n",
    "            \"keys\": {\n",
    "                \"gold answer set\": {\"type\": \"text\", \"label\": \"gold answer set: \"},\n",
    "                \"answer\": {\"type\": \"text\", \"label\": \"reader answer: \"},\n",
    "                \"retrieved context\": {\n",
    "                    \"type\": \"list\",\n",
    "                    \"elements\": {\n",
    "                        \"type\": \"vstack\",\n",
    "                        \"keys\": {\n",
    "                            \"score\": {\"type\": \"text\", \"label\": \"score: \"},\n",
    "                            \"text\": {\"type\": \"text\", \"label\": \"text: \"},\n",
    "                            \"wiki_id_match\": {\"type\": \"text\", \"label\": \"wiki_id match: \"},\n",
    "                            \"wiki_par_id_match\": {\"type\": \"text\", \"label\": \"wiki_par_id match: \"}\n",
    "                        },\n",
    "                    },\n",
    "                    \"collapsible\": \"bottom\",\n",
    "                    \"border\": True,\n",
    "                    \"pad\": True,\n",
    "                },\n",
    "            },\n",
    "        },\n",
    "    },\n",
    "    description=\"Document-grounded question answering with Wikipedia\",\n",
    "    metrics=[\n",
    "        ZenoMetric(name=\"max retrieved score\", type=\"mean\", columns=[\"max_score\"]),\n",
    "        ZenoMetric(name=\"avg retrieved score\", type=\"mean\", columns=[\"avg_score\"]),\n",
    "        ZenoMetric(name=\"exact_match\", type=\"mean\", columns=[\"exact_match\"]),\n",
    "        ZenoMetric(name=\"f1\", type=\"mean\", columns=[\"f1\"]),\n",
    "        ZenoMetric(name=\"substring_match\", type=\"mean\", columns=[\"substring_match\"]),\n",
    "        ZenoMetric(name=\"any wiki_id_match\", type=\"mean\", columns=[\"any wiki_id_match\"]),\n",
    "        ZenoMetric(name=\"any wiki_par_id_match\", type=\"mean\", columns=[\"any wiki_par_id_match\"]),\n",
    "        ZenoMetric(name=\"avg wiki_id_match\", type=\"mean\", columns=[\"avg wiki_id_match\"]),\n",
    "        ZenoMetric(name=\"avg wiki_par_id_match\", type=\"mean\", columns=[\"avg wiki_par_id_match\"]),\n",
    "    ],\n",
    ")"
   ]
  },
  {
   "cell_type": "code",
   "execution_count": 58,
   "metadata": {},
   "outputs": [
    {
     "data": {
      "application/vnd.jupyter.widget-view+json": {
       "model_id": "7f9aca90d89f478489ed52c4c693a97a",
       "version_major": 2,
       "version_minor": 0
      },
      "text/plain": [
       "  0%|          | 0/1 [00:00<?, ?it/s]"
      ]
     },
     "metadata": {},
     "output_type": "display_data"
    },
    {
     "name": "stdout",
     "output_type": "stream",
     "text": [
      "Successfully uploaded data\n"
     ]
    }
   ],
   "source": [
    "data_df = pd.DataFrame({\"question\": [d[\"input\"] for d in gold_data], 'id': [d['id'] for d in gold_data]})\n",
    "project.upload_dataset(data_df, id_column=\"id\", data_column=\"question\")"
   ]
  },
  {
   "cell_type": "code",
   "execution_count": 59,
   "metadata": {},
   "outputs": [],
   "source": [
    "with open(os.path.join(root_dir, 'data', \"gold-nq-dev-kilt.json\"), \"r\") as f:\n",
    "    gold_data = json.load(f)\n",
    "gold_data = sorted(gold_data, key=lambda x: x[\"id\"])"
   ]
  },
  {
   "cell_type": "code",
   "execution_count": 62,
   "metadata": {},
   "outputs": [
    {
     "name": "stdout",
     "output_type": "stream",
     "text": [
      "top1\n"
     ]
    },
    {
     "data": {
      "application/vnd.jupyter.widget-view+json": {
       "model_id": "0e40878c82c34b079ff4c37a980c3f62",
       "version_major": 2,
       "version_minor": 0
      },
      "text/plain": [
       "  0%|          | 0/3 [00:00<?, ?it/s]"
      ]
     },
     "metadata": {},
     "output_type": "display_data"
    },
    {
     "name": "stdout",
     "output_type": "stream",
     "text": [
      "Successfully uploaded system\n",
      "top2\n"
     ]
    },
    {
     "data": {
      "application/vnd.jupyter.widget-view+json": {
       "model_id": "068a74f9c9794f98b178cde0f8b514c9",
       "version_major": 2,
       "version_minor": 0
      },
      "text/plain": [
       "  0%|          | 0/4 [00:00<?, ?it/s]"
      ]
     },
     "metadata": {},
     "output_type": "display_data"
    },
    {
     "name": "stdout",
     "output_type": "stream",
     "text": [
      "Successfully uploaded system\n",
      "top3\n"
     ]
    },
    {
     "data": {
      "application/vnd.jupyter.widget-view+json": {
       "model_id": "b451d8c2fcf744f1a64696952d63cbdf",
       "version_major": 2,
       "version_minor": 0
      },
      "text/plain": [
       "  0%|          | 0/6 [00:00<?, ?it/s]"
      ]
     },
     "metadata": {},
     "output_type": "display_data"
    },
    {
     "name": "stdout",
     "output_type": "stream",
     "text": [
      "Successfully uploaded system\n",
      "top5\n"
     ]
    },
    {
     "data": {
      "application/vnd.jupyter.widget-view+json": {
       "model_id": "6ca8501ea592406e9b9c6eea2513352d",
       "version_major": 2,
       "version_minor": 0
      },
      "text/plain": [
       "  0%|          | 0/10 [00:00<?, ?it/s]"
      ]
     },
     "metadata": {},
     "output_type": "display_data"
    },
    {
     "name": "stdout",
     "output_type": "stream",
     "text": [
      "Successfully uploaded system\n",
      "top10\n"
     ]
    },
    {
     "data": {
      "application/vnd.jupyter.widget-view+json": {
       "model_id": "680ad79690104e50b537f816801bf51c",
       "version_major": 2,
       "version_minor": 0
      },
      "text/plain": [
       "  0%|          | 0/17 [00:00<?, ?it/s]"
      ]
     },
     "metadata": {},
     "output_type": "display_data"
    },
    {
     "name": "stdout",
     "output_type": "stream",
     "text": [
      "Successfully uploaded system\n",
      "top20\n"
     ]
    },
    {
     "data": {
      "application/vnd.jupyter.widget-view+json": {
       "model_id": "d567d5095acc411281f888a317635c35",
       "version_major": 2,
       "version_minor": 0
      },
      "text/plain": [
       "  0%|          | 0/30 [00:00<?, ?it/s]"
      ]
     },
     "metadata": {},
     "output_type": "display_data"
    },
    {
     "name": "stdout",
     "output_type": "stream",
     "text": [
      "Successfully uploaded system\n",
      "top30\n"
     ]
    },
    {
     "data": {
      "application/vnd.jupyter.widget-view+json": {
       "model_id": "d0ceff440c5c4ef58312c02f5b404e98",
       "version_major": 2,
       "version_minor": 0
      },
      "text/plain": [
       "  0%|          | 0/52 [00:00<?, ?it/s]"
      ]
     },
     "metadata": {},
     "output_type": "display_data"
    },
    {
     "name": "stdout",
     "output_type": "stream",
     "text": [
      "Successfully uploaded system\n",
      "top50\n"
     ]
    },
    {
     "data": {
      "application/vnd.jupyter.widget-view+json": {
       "model_id": "df892dc6564049f893cc8bd22a24ca95",
       "version_major": 2,
       "version_minor": 0
      },
      "text/plain": [
       "  0%|          | 0/84 [00:00<?, ?it/s]"
      ]
     },
     "metadata": {},
     "output_type": "display_data"
    },
    {
     "name": "stdout",
     "output_type": "stream",
     "text": [
      "Successfully uploaded system\n"
     ]
    }
   ],
   "source": [
    "reader_model = 'flanT5'\n",
    "retriever_model = 'bm25'\n",
    "dataset = 'nq'\n",
    "top_ks= [\"top1\", \"top2\", \"top3\", \"top5\", \"top10\", \"top20\", \"top30\", \"top50\"]\n",
    "for top_k in top_ks:\n",
    "    print(top_k)\n",
    "    with open(os.path.join(results_dir, reader_model, dataset, retriever_model, f\"exp2/{top_k}/reader_results_zeno.json\"), \"r\") as f:\n",
    "        data = json.load(f)\n",
    "    combined_data = combine_gold_and_compiled(data, gold_data)\n",
    "    output_df = get_reader_df(combined_data)\n",
    "    # break\n",
    "    \n",
    "    project.upload_system(\n",
    "        output_df, name= (dataset + ' ' + retriever_model + ' ' + reader_model + ' ' + top_k), id_column=\"id\", output_column=\"output\"\n",
    "    )"
   ]
  },
  {
   "cell_type": "code",
   "execution_count": 64,
   "metadata": {},
   "outputs": [
    {
     "name": "stdout",
     "output_type": "stream",
     "text": [
      "baseline\n"
     ]
    },
    {
     "data": {
      "application/vnd.jupyter.widget-view+json": {
       "model_id": "ed2bacc6ef6a4a35a277de45eea8c590",
       "version_major": 2,
       "version_minor": 0
      },
      "text/plain": [
       "  0%|          | 0/2 [00:00<?, ?it/s]"
      ]
     },
     "metadata": {},
     "output_type": "display_data"
    },
    {
     "name": "stdout",
     "output_type": "stream",
     "text": [
      "Successfully uploaded system\n"
     ]
    }
   ],
   "source": [
    "reader_model = 'flanT5'\n",
    "retriever_model = 'bm25'\n",
    "dataset = 'nq'\n",
    "top_k = 'baseline'\n",
    "print(top_k)\n",
    "with open(os.path.join(results_dir, reader_model, dataset, retriever_model, f\"exp2/{top_k}/reader_results_zeno.json\"), \"r\") as f:\n",
    "    data = json.load(f)\n",
    "combined_data = combine_gold_and_compiled(data, gold_data)\n",
    "output_df = get_baseline_df(combined_data)\n",
    "\n",
    "project.upload_system(\n",
    "    output_df, name= (dataset + ' ' + reader_model + ' ' + top_k), id_column=\"id\", output_column=\"output\"\n",
    "    )"
   ]
  },
  {
   "cell_type": "code",
   "execution_count": 60,
   "metadata": {},
   "outputs": [],
   "source": [
    "def get_baseline_df(combined_data):\n",
    "    return pd.DataFrame(\n",
    "        {\n",
    "            \"question\": [d['input'] for d in combined_data],\n",
    "            \"id\": [d['id'] for d in combined_data],\n",
    "            \"output\": [\n",
    "                json.dumps(\n",
    "                    {   \n",
    "                        \"gold answer set\": ', '.join(d['gold_answer_set']),\n",
    "                        \"gold context\": d['gold_context'],\n",
    "                        \"answer\": d[\"output\"][\"answer\"],\n",
    "                        \"retrieved context\": [\n",
    "                            {\n",
    "                                \"wiki_par_id\": None,\n",
    "                                \"text\": None,\n",
    "                                \"score\": None,\n",
    "                                \"wiki_id_match\": None,\n",
    "                                \"wiki_par_id_match\": None\n",
    "                            }\n",
    "                        ],\n",
    "                    }\n",
    "                )\n",
    "                for d in combined_data\n",
    "            ],\n",
    "            \"max_score\": [\n",
    "\n",
    "                None for d in combined_data\n",
    "            ],\n",
    "            \"avg_score\": [\n",
    "                None for d in combined_data\n",
    "            ],\n",
    "            \"f1\": [\n",
    "                d[\"output\"][\"answer_evaluation\"][\"f1\"] for d in combined_data\n",
    "            ],\n",
    "            \"exact_match\": [\n",
    "                d[\"output\"][\"answer_evaluation\"][\"exact_match\"] for d in combined_data\n",
    "            ],\n",
    "            \"substring_match\": [\n",
    "                d[\"output\"][\"answer_evaluation\"][\"substring_match\"] for d in combined_data\n",
    "            ],\n",
    "            \"any wiki_id_match\": [\n",
    "                None for d in combined_data\n",
    "            ],\n",
    "            \"any wiki_par_id_match\": [\n",
    "                None for d in combined_data\n",
    "            ],\n",
    "            \"avg wiki_id_match\": [\n",
    "                None for d in combined_data\n",
    "            ],\n",
    "            \"avg wiki_par_id_match\": [\n",
    "                None for d in combined_data\n",
    "            ]\n",
    "        }\n",
    "    )\n",
    "    # return output_df\n",
    "# output_df[\"id\"] = "
   ]
  },
  {
   "cell_type": "code",
   "execution_count": 61,
   "metadata": {},
   "outputs": [],
   "source": [
    "import numpy as np\n",
    "def get_reader_df(combined_data):\n",
    "    return pd.DataFrame(\n",
    "        {\n",
    "            \"question\": [d['input'] for d in combined_data],\n",
    "            \"id\": [d['id'] for d in combined_data],\n",
    "            \"output\": [\n",
    "                json.dumps(\n",
    "                    {   \n",
    "                        \"gold answer set\": ', '.join(d['gold_answer_set']),\n",
    "                        \"gold context\": d['gold_context'],\n",
    "                        \"answer\": d[\"output\"][\"answer\"],\n",
    "                        \"retrieved context\": [\n",
    "                            {\n",
    "                                \"wiki_par_id\": \"[{idx}]({url})\".format(\n",
    "                                    idx=r[\"wiki_id\"],\n",
    "                                    url=\"https://en.wikipedia.org/?curid=\"\n",
    "                                    + r[\"wiki_id\"],\n",
    "                                ),\n",
    "                                \"text\": r[\"text\"],\n",
    "                                \"score\": r[\"score\"],\n",
    "                                \"wiki_id_match\": r[\"wiki_id_match\"],\n",
    "                                \"wiki_par_id_match\": r[\"wiki_par_id_match\"]\n",
    "                            }\n",
    "                        for r in d[\"output\"][\"retrieved\"]\n",
    "                        ],\n",
    "                    }\n",
    "                )\n",
    "                for d in combined_data\n",
    "            ],\n",
    "            \"max_score\": [\n",
    "\n",
    "                d[\"output\"][\"retrieved\"][0][\"score\"] for d in combined_data\n",
    "            ],\n",
    "            \"avg_score\": [\n",
    "                np.mean([r[\"score\"] for r in d[\"output\"][\"retrieved\"]]) for d in combined_data\n",
    "            ],\n",
    "            \"f1\": [\n",
    "                d[\"output\"][\"answer_evaluation\"][\"f1\"] for d in combined_data\n",
    "            ],\n",
    "            \"exact_match\": [\n",
    "                d[\"output\"][\"answer_evaluation\"][\"exact_match\"] for d in combined_data\n",
    "            ],\n",
    "            \"substring_match\": [\n",
    "                d[\"output\"][\"answer_evaluation\"][\"substring_match\"] for d in combined_data\n",
    "            ],\n",
    "            \"avg wiki_id_match\": [\n",
    "                np.mean([r[\"wiki_id_match\"] for r in d[\"output\"][\"retrieved\"]]) for d in combined_data\n",
    "            ],\n",
    "            \"avg wiki_par_id_match\": [\n",
    "                np.mean([r[\"wiki_par_id_match\"] for r in d[\"output\"][\"retrieved\"]]) for d in combined_data\n",
    "            ],\n",
    "            \"any wiki_id_match\": [\n",
    "                d[\"output\"][\"summary context evaluation\"][\"wiki_id_match\"] for d in combined_data\n",
    "            ],\n",
    "            \"any wiki_par_id_match\": [\n",
    "                d[\"output\"][\"summary context evaluation\"][\"wiki_par_id_match\"] for d in combined_data\n",
    "            ]\n",
    "        }\n",
    "    )\n",
    "    # return output_df\n",
    "# output_df[\"id\"] = "
   ]
  },
  {
   "cell_type": "code",
   "execution_count": 39,
   "metadata": {},
   "outputs": [
    {
     "data": {
      "text/plain": [
       "[]"
      ]
     },
     "execution_count": 39,
     "metadata": {},
     "output_type": "execute_result"
    }
   ],
   "source": []
  },
  {
   "cell_type": "code",
   "execution_count": null,
   "metadata": {},
   "outputs": [],
   "source": []
  }
 ],
 "metadata": {
  "kernelspec": {
   "display_name": "compare",
   "language": "python",
   "name": "python3"
  },
  "language_info": {
   "codemirror_mode": {
    "name": "ipython",
    "version": 3
   },
   "file_extension": ".py",
   "mimetype": "text/x-python",
   "name": "python",
   "nbconvert_exporter": "python",
   "pygments_lexer": "ipython3",
   "version": "3.10.13"
  }
 },
 "nbformat": 4,
 "nbformat_minor": 2
}
