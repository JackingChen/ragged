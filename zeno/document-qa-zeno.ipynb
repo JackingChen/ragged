{
 "cells": [
  {
   "cell_type": "code",
   "execution_count": 140,
   "metadata": {},
   "outputs": [
    {
     "data": {
      "text/plain": [
       "False"
      ]
     },
     "execution_count": 140,
     "metadata": {},
     "output_type": "execute_result"
    }
   ],
   "source": [
    "from zeno_client import ZenoClient, ZenoMetric\n",
    "import pandas as pd\n",
    "import json\n",
    "import os\n",
    "from dotenv import load_dotenv\n",
    "\n",
    "load_dotenv(override=True)"
   ]
  },
  {
   "cell_type": "code",
   "execution_count": 141,
   "metadata": {},
   "outputs": [
    {
     "name": "stdout",
     "output_type": "stream",
     "text": [
      "Successfully updated project.\n",
      "Access your project at  https://hub.zenoml.com/project/jhsia2/Document%20QA\n"
     ]
    }
   ],
   "source": [
    "project = client.create_project(\n",
    "    name=\"Document QA\",\n",
    "    view={\n",
    "        \"data\": {\"type\": \"text\", \n",
    "                 \"label\": \"question:\"\n",
    "                },\n",
    "        \"label\": {\"type\": \"text\"},\n",
    "        \"output\": {\n",
    "            \"type\": \"vstack\",\n",
    "            \"keys\": {\n",
    "                \"gold answer set\": {\"type\": \"text\", \"label\": \"gold answer set: \"},\n",
    "                \"answer\": {\"type\": \"text\", \"label\": \"reader answer: \"},\n",
    "                \"retrieved context\": {\n",
    "                    \"type\": \"list\",\n",
    "                    \"elements\": {\n",
    "                        \"type\": \"vstack\",\n",
    "                        \"keys\": {\n",
    "                            \"score\": {\"type\": \"text\", \"label\": \"score: \"},\n",
    "                            \"text\": {\"type\": \"text\", \"label\": \"text: \"},\n",
    "                            \"wiki_id_match\": {\"type\": \"text\", \"label\": \"wiki_id match: \"},\n",
    "                            \"wiki_par_id_match\": {\"type\": \"text\", \"label\": \"wiki_par_id match: \"}\n",
    "                        },\n",
    "                    },\n",
    "                    \"collapsible\": \"bottom\",\n",
    "                    \"border\": True,\n",
    "                    \"pad\": True,\n",
    "                },\n",
    "            },\n",
    "        },\n",
    "    },\n",
    "    description=\"Document-grounded question answering with Wikipedia\",\n",
    "    metrics=[\n",
    "        ZenoMetric(name=\"score\", type=\"mean\", columns=[\"score\"]),\n",
    "        ZenoMetric(name=\"exact_match\", type=\"mean\", columns=[\"exact_match\"]),\n",
    "        ZenoMetric(name=\"substring_match\", type=\"mean\", columns=[\"substring_match\"]),\n",
    "        ZenoMetric(name=\"wiki_id_match\", type=\"mean\", columns=[\"wiki_id_match\"]),\n",
    "        ZenoMetric(name=\"wiki_par_id_match\", type=\"mean\", columns=[\"wiki_par_id_match\"]),\n",
    "    ],\n",
    ")"
   ]
  },
  {
   "cell_type": "code",
   "execution_count": 100,
   "metadata": {},
   "outputs": [],
   "source": [
    "root_dir = '/data/user_data/jhsia2/dbqa'\n",
    "results_dir = os.path.join(root_dir, 'reader_results')"
   ]
  },
  {
   "cell_type": "code",
   "execution_count": null,
   "metadata": {},
   "outputs": [],
   "source": [
    "with open(os.path.join(root_dir, 'data', \"gold-nq-dev-kilt.json\"), \"r\") as f:\n",
    "    gold_data = json.load(f)\n",
    "gold_data = sorted(gold_data, key=lambda x: x[\"id\"])\n",
    "\n",
    "def combine_gold_and_compiled(output_data, gold_data):\n",
    "    for od, gd in zip(output_data, gold_data):\n",
    "        od['gold_answer_set'] = gd['output']['answer_set']\n",
    "        od['gold_context'] = {'wiki_id_set': gd['output']['wiki_id_set'],\\\n",
    "                              'wiki_par_id_set': gd['output']['wiki_par_id_set']}\n",
    "    return output_data"
   ]
  },
  {
   "cell_type": "code",
   "execution_count": 142,
   "metadata": {},
   "outputs": [
    {
     "data": {
      "application/vnd.jupyter.widget-view+json": {
       "model_id": "639243b6b8db4ffdaf5121dd70c99bfa",
       "version_major": 2,
       "version_minor": 0
      },
      "text/plain": [
       "  0%|          | 0/1 [00:00<?, ?it/s]"
      ]
     },
     "metadata": {},
     "output_type": "display_data"
    },
    {
     "name": "stdout",
     "output_type": "stream",
     "text": [
      "Successfully uploaded data\n"
     ]
    }
   ],
   "source": [
    "data_df = pd.DataFrame({\"question\": [d[\"input\"] for d in data], 'id': [d['id'] for d in data]})\n",
    "client = ZenoClient('zen_EZ7LuqItWgObcQmIvNZVytvhtTh8JMs2HrSzzfXsiIg')\n",
    "project.upload_dataset(data_df, id_column=\"id\", data_column=\"question\")"
   ]
  },
  {
   "cell_type": "code",
   "execution_count": 143,
   "metadata": {},
   "outputs": [
    {
     "name": "stdout",
     "output_type": "stream",
     "text": [
      "top1\n"
     ]
    },
    {
     "data": {
      "application/vnd.jupyter.widget-view+json": {
       "model_id": "15438a99a8394a258752c7c85f9e2624",
       "version_major": 2,
       "version_minor": 0
      },
      "text/plain": [
       "  0%|          | 0/3 [00:00<?, ?it/s]"
      ]
     },
     "metadata": {},
     "output_type": "display_data"
    },
    {
     "name": "stdout",
     "output_type": "stream",
     "text": [
      "Successfully uploaded system\n",
      "top2\n"
     ]
    },
    {
     "data": {
      "application/vnd.jupyter.widget-view+json": {
       "model_id": "9f190ac25b1a4456a148762a36b87dd4",
       "version_major": 2,
       "version_minor": 0
      },
      "text/plain": [
       "  0%|          | 0/4 [00:00<?, ?it/s]"
      ]
     },
     "metadata": {},
     "output_type": "display_data"
    },
    {
     "name": "stdout",
     "output_type": "stream",
     "text": [
      "Successfully uploaded system\n",
      "top3\n"
     ]
    },
    {
     "data": {
      "application/vnd.jupyter.widget-view+json": {
       "model_id": "691f171af2be421caa6482e94af606ed",
       "version_major": 2,
       "version_minor": 0
      },
      "text/plain": [
       "  0%|          | 0/6 [00:00<?, ?it/s]"
      ]
     },
     "metadata": {},
     "output_type": "display_data"
    },
    {
     "name": "stdout",
     "output_type": "stream",
     "text": [
      "Successfully uploaded system\n",
      "top5\n"
     ]
    },
    {
     "data": {
      "application/vnd.jupyter.widget-view+json": {
       "model_id": "64c8cd47a2354ac397fea70be908ff83",
       "version_major": 2,
       "version_minor": 0
      },
      "text/plain": [
       "  0%|          | 0/10 [00:00<?, ?it/s]"
      ]
     },
     "metadata": {},
     "output_type": "display_data"
    },
    {
     "name": "stdout",
     "output_type": "stream",
     "text": [
      "Successfully uploaded system\n",
      "top10\n"
     ]
    },
    {
     "data": {
      "application/vnd.jupyter.widget-view+json": {
       "model_id": "abfd8ecdaf524ed79a4c3e4bf3258420",
       "version_major": 2,
       "version_minor": 0
      },
      "text/plain": [
       "  0%|          | 0/17 [00:00<?, ?it/s]"
      ]
     },
     "metadata": {},
     "output_type": "display_data"
    },
    {
     "name": "stdout",
     "output_type": "stream",
     "text": [
      "Successfully uploaded system\n",
      "top20\n"
     ]
    },
    {
     "data": {
      "application/vnd.jupyter.widget-view+json": {
       "model_id": "7cfa1101b12243e4a4a32be6c864898d",
       "version_major": 2,
       "version_minor": 0
      },
      "text/plain": [
       "  0%|          | 0/30 [00:00<?, ?it/s]"
      ]
     },
     "metadata": {},
     "output_type": "display_data"
    },
    {
     "name": "stdout",
     "output_type": "stream",
     "text": [
      "Successfully uploaded system\n",
      "top30\n"
     ]
    },
    {
     "data": {
      "application/vnd.jupyter.widget-view+json": {
       "model_id": "9556139813cd4d31bfdc48d2bc8c8a85",
       "version_major": 2,
       "version_minor": 0
      },
      "text/plain": [
       "  0%|          | 0/52 [00:00<?, ?it/s]"
      ]
     },
     "metadata": {},
     "output_type": "display_data"
    },
    {
     "name": "stdout",
     "output_type": "stream",
     "text": [
      "Successfully uploaded system\n",
      "top50\n"
     ]
    },
    {
     "data": {
      "application/vnd.jupyter.widget-view+json": {
       "model_id": "6ce7d3307c29400d91ed3cd1149459ba",
       "version_major": 2,
       "version_minor": 0
      },
      "text/plain": [
       "  0%|          | 0/84 [00:00<?, ?it/s]"
      ]
     },
     "metadata": {},
     "output_type": "display_data"
    },
    {
     "name": "stdout",
     "output_type": "stream",
     "text": [
      "Successfully uploaded system\n"
     ]
    }
   ],
   "source": [
    "reader_model = 'flanT5'\n",
    "retriever_model = 'bm25'\n",
    "dataset = 'nq'\n",
    "top_ks= [\"top1\", \"top2\", \"top3\", \"top5\", \"top10\", \"top20\", \"top30\", \"top50\"]\n",
    "for top_k in top_ks:\n",
    "    print(top_k)\n",
    "    with open(os.path.join(results_dir, reader_model, dataset, retriever_model, f\"exp2/{top_k}/reader_results_zeno.json\"), \"r\") as f:\n",
    "        data = json.load(f)\n",
    "    combined_data = combine_gold_and_compiled(data, gold_data)\n",
    "    output_df = get_reader_df(combined_data)\n",
    "    \n",
    "    project.upload_system(\n",
    "        output_df, name= (reader_model + ' ' + retriever_model + ' ' + top_k), id_column=\"id\", output_column=\"output\"\n",
    "    )"
   ]
  },
  {
   "cell_type": "code",
   "execution_count": 145,
   "metadata": {},
   "outputs": [
    {
     "name": "stdout",
     "output_type": "stream",
     "text": [
      "baseline\n"
     ]
    },
    {
     "data": {
      "application/vnd.jupyter.widget-view+json": {
       "model_id": "4cc6c91e5d0f44fbb23afc746cd1fda7",
       "version_major": 2,
       "version_minor": 0
      },
      "text/plain": [
       "  0%|          | 0/2 [00:00<?, ?it/s]"
      ]
     },
     "metadata": {},
     "output_type": "display_data"
    },
    {
     "name": "stdout",
     "output_type": "stream",
     "text": [
      "Successfully uploaded system\n"
     ]
    }
   ],
   "source": [
    "reader_model = 'flanT5'\n",
    "retriever_model = 'bm25'\n",
    "dataset = 'nq'\n",
    "# top_ks= [\"top1\", \"top2\", \"top3\", \"top5\", \"top10\", \"top20\", \"top30\", \"top50\"]\n",
    "# for top_k in top_ks:\n",
    "top_k = 'baseline'\n",
    "print(top_k)\n",
    "with open(os.path.join(results_dir, reader_model, dataset, retriever_model, f\"exp2/{top_k}/reader_results_zeno.json\"), \"r\") as f:\n",
    "    data = json.load(f)\n",
    "combined_data = combine_gold_and_compiled(data, gold_data)\n",
    "output_df = get_baseline_df(combined_data)\n",
    "\n",
    "project.upload_system(\n",
    "    output_df, name= (reader_model + ' ' + retriever_model + ' ' + top_k), id_column=\"id\", output_column=\"output\"\n",
    ")"
   ]
  },
  {
   "cell_type": "code",
   "execution_count": 144,
   "metadata": {},
   "outputs": [],
   "source": [
    "def get_baseline_df(combined_data):\n",
    "    return pd.DataFrame(\n",
    "        {\n",
    "            \"question\": [d['input'] for d in combined_data],\n",
    "            \"id\": [d['id'] for d in combined_data],\n",
    "            \"output\": [\n",
    "                json.dumps(\n",
    "                    {   \n",
    "                        \"gold answer set\": ', '.join(d['gold_answer_set']),\n",
    "                        \"gold context\": d['gold_context'],\n",
    "                        \"answer\": d[\"output\"][\"answer\"],\n",
    "                        \"retrieved context\": [\n",
    "                            {\n",
    "                                \"wiki_par_id\": None,\n",
    "                                \"text\": None,\n",
    "                                \"score\": None,\n",
    "                                \"wiki_id_match\": None,\n",
    "                                \"wiki_par_id_match\": None\n",
    "                            }\n",
    "                        ],\n",
    "                    }\n",
    "                )\n",
    "                for d in combined_data\n",
    "            ],\n",
    "            \"score\": [\n",
    "                None for d in combined_data\n",
    "            ],\n",
    "            \"exact_match\": [\n",
    "                d[\"output\"][\"answer_evaluation\"][\"exact_match\"] for d in combined_data\n",
    "            ],\n",
    "            \"substring_match\": [\n",
    "                d[\"output\"][\"answer_evaluation\"][\"substring_match\"] for d in combined_data\n",
    "            ],\n",
    "            \"wiki_id_match\": [\n",
    "                None for d in combined_data\n",
    "            ],\n",
    "            \"wiki_par_id_match\": [\n",
    "                None for d in combined_data\n",
    "            ]\n",
    "        }\n",
    "    )\n",
    "    # return output_df\n",
    "# output_df[\"id\"] = "
   ]
  },
  {
   "cell_type": "code",
   "execution_count": 139,
   "metadata": {},
   "outputs": [],
   "source": [
    "def get_reader_df(combined_data):\n",
    "    return pd.DataFrame(\n",
    "        {\n",
    "            \"question\": [d['input'] for d in combined_data],\n",
    "            \"id\": [d['id'] for d in combined_data],\n",
    "            \"output\": [\n",
    "                json.dumps(\n",
    "                    {   \n",
    "                        \"gold answer set\": ', '.join(d['gold_answer_set']),\n",
    "                        \"gold context\": d['gold_context'],\n",
    "                        \"answer\": d[\"output\"][\"answer\"],\n",
    "                        \"retrieved context\": [\n",
    "                            {\n",
    "                                \"wiki_par_id\": \"[{idx}]({url})\".format(\n",
    "                                    idx=r[\"wiki_id\"],\n",
    "                                    url=\"https://en.wikipedia.org/?curid=\"\n",
    "                                    + r[\"wiki_id\"],\n",
    "                                ),\n",
    "                                \"text\": r[\"text\"],\n",
    "                                \"score\": r[\"score\"],\n",
    "                                \"wiki_id_match\": r[\"wiki_id_match\"],\n",
    "                                \"wiki_par_id_match\": r[\"wiki_par_id_match\"]\n",
    "                            }\n",
    "                        for r in d[\"output\"][\"retrieved\"]\n",
    "                        ],\n",
    "                    }\n",
    "                )\n",
    "                for d in combined_data\n",
    "            ],\n",
    "            \"score\": [\n",
    "                d[\"output\"][\"retrieved\"][0][\"score\"] for d in combined_data\n",
    "            ],\n",
    "            \"exact_match\": [\n",
    "                d[\"output\"][\"answer_evaluation\"][\"exact_match\"] for d in combined_data\n",
    "            ],\n",
    "            \"substring_match\": [\n",
    "                d[\"output\"][\"answer_evaluation\"][\"substring_match\"] for d in combined_data\n",
    "            ],\n",
    "            \"wiki_id_match\": [\n",
    "                d[\"output\"][\"summary context evaluation\"][\"wiki_id_match\"] for d in combined_data\n",
    "            ],\n",
    "            \"wiki_par_id_match\": [\n",
    "                d[\"output\"][\"summary context evaluation\"][\"wiki_par_id_match\"] for d in combined_data\n",
    "            ]\n",
    "        }\n",
    "    )\n",
    "    # return output_df\n",
    "# output_df[\"id\"] = "
   ]
  },
  {
   "cell_type": "code",
   "execution_count": null,
   "metadata": {},
   "outputs": [],
   "source": []
  }
 ],
 "metadata": {
  "kernelspec": {
   "display_name": "compare",
   "language": "python",
   "name": "python3"
  },
  "language_info": {
   "codemirror_mode": {
    "name": "ipython",
    "version": 3
   },
   "file_extension": ".py",
   "mimetype": "text/x-python",
   "name": "python",
   "nbconvert_exporter": "python",
   "pygments_lexer": "ipython3",
   "version": "3.10.13"
  }
 },
 "nbformat": 4,
 "nbformat_minor": 2
}
