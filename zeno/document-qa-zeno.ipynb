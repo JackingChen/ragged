{
 "cells": [
  {
   "cell_type": "code",
   "execution_count": 1,
   "metadata": {},
   "outputs": [
    {
     "data": {
      "text/plain": [
       "False"
      ]
     },
     "execution_count": 1,
     "metadata": {},
     "output_type": "execute_result"
    }
   ],
   "source": [
    "from zeno_client import ZenoClient, ZenoMetric\n",
    "import pandas as pd\n",
    "import json\n",
    "import os\n",
    "from dotenv import load_dotenv\n",
    "\n",
    "load_dotenv(override=True)"
   ]
  },
  {
   "cell_type": "code",
   "execution_count": 2,
   "metadata": {},
   "outputs": [],
   "source": [
    "root_dir = '/data/tir/projects/tir6/general/afreens/dbqa'\n",
    "results_dir = os.path.join(root_dir, 'reader_results')\n",
    "client = ZenoClient('zen_EZ7LuqItWgObcQmIvNZVytvhtTh8JMs2HrSzzfXsiIg')\n"
   ]
  },
  {
   "cell_type": "code",
   "execution_count": 3,
   "metadata": {},
   "outputs": [],
   "source": [
    "with open('/data/tir/projects/tir6/general/afreens/dbqa/data/id2title.json', 'r') as file:\n",
    "    # Use json.dump to write the list of dictionaries to the file\n",
    "    id2title = json.load(file)"
   ]
  },
  {
   "cell_type": "code",
   "execution_count": 4,
   "metadata": {},
   "outputs": [],
   "source": [
    "# def combine_gold_and_compiled(output_data, gold_answer_set, gold_wiki_par_id_set, gold_wiki_par_text_set, gold_title_set):\n",
    "#     for i, od in enumerate(output_data):\n",
    "#         od['gold_answer_set'] = gold_answer_set[i]\n",
    "#         od['gold_title_set'] = gold_title_set[i]\n",
    "#         od['gold_id_set'] = gold_wiki_par_id_set[i]\n",
    "#         od['gold_text_set'] = gold_wiki_par_text_set[i]\n",
    "#     return output_data"
   ]
  },
  {
   "cell_type": "code",
   "execution_count": 5,
   "metadata": {},
   "outputs": [],
   "source": [
    "# def get_gold_sets(gold_data):\n",
    "#     gold_answer_set = []\n",
    "#     gold_wiki_par_id_set = []\n",
    "#     gold_wiki_par_text_set = []\n",
    "#     gold_title_set = []\n",
    "#     for d in gold_data:\n",
    "#         answer_set = set()\n",
    "#         wiki_par_id_set = set()\n",
    "#         wiki_par_text_set = set()\n",
    "#         title_set = set()\n",
    "        \n",
    "#         answer_set = set()\n",
    "#         for a in d['output']:\n",
    "#             answer_set.add(a['answer'])\n",
    "#             for r  in a['retrieved']:\n",
    "#                 wiki_par_id = f\"{r['wikipedia_id']}_{r['start_paragraph_id']}\"\n",
    "#                 title_set.add(r['title'])\n",
    "#                 # if (wiki_par_id not in gold_wiki_par_id_set):\n",
    "#                 wiki_par_id_set.add(wiki_par_id)\n",
    "#                 wiki_par_text_set.add(r['text'])\n",
    "#         gold_answer_set.append(answer_set)\n",
    "#         gold_title_set.append(title_set)\n",
    "#         gold_wiki_par_id_set.append(wiki_par_id_set)\n",
    "#         gold_wiki_par_text_set.append(wiki_par_text_set)\n",
    "#     return gold_answer_set, gold_wiki_par_id_set, gold_wiki_par_text_set, gold_title_set "
   ]
  },
  {
   "cell_type": "code",
   "execution_count": 4,
   "metadata": {},
   "outputs": [
    {
     "name": "stdout",
     "output_type": "stream",
     "text": [
      "Successfully updated project.\n",
      "Access your project at  https://hub.zenoml.com/project/jhsia2/Document%20QA\n"
     ]
    }
   ],
   "source": [
    "project = client.create_project(\n",
    "    name=f\"Document QA\",\n",
    "    view={\n",
    "        \"data\": {\"type\": \"text\", \n",
    "                 \"label\": \"question:\"\n",
    "                },\n",
    "        \"label\": {\"type\": \"text\"},\n",
    "        \"output\": {\n",
    "            \"type\": \"vstack\",\n",
    "            \"keys\": {\n",
    "                \"gold answer set\": {\"type\": \"text\", \"label\": \"gold answer set: \"},\n",
    "                \"gold title set\": {\"type\": \"text\", \"label\": \"gold title set: \"},\n",
    "                # \"gold context set\": {\"type\": \"text\", \"label\": \"gold text set: \"},\n",
    "                \"answer\": {\"type\": \"text\", \"label\": \"reader answer: \"},\n",
    "                \"retrieved context\": {\n",
    "                    \"type\": \"list\",\n",
    "                    \"elements\": {\n",
    "                        \"type\": \"vstack\",\n",
    "                        \"keys\": {\n",
    "                            \"score\": {\"type\": \"text\", \"label\": \"score: \"},\n",
    "                            \"wiki_id\": {\"type\": \"markdown\"},\n",
    "                            \"text\": {\"type\": \"text\", \"label\": \"text: \"},\n",
    "                            \"wiki_id_match\": {\"type\": \"text\", \"label\": \"wiki_id match: \"},\n",
    "                            \"wiki_par_id_match\": {\"type\": \"text\", \"label\": \"wiki_par_id match: \"}\n",
    "                        },\n",
    "                    },\n",
    "                    \"collapsible\": \"bottom\",\n",
    "                    \"border\": True,\n",
    "                    \"pad\": True,\n",
    "                },\n",
    "            },\n",
    "        },\n",
    "    },\n",
    "    description=\"Document-grounded question answering with Wikipedia\",\n",
    "    metrics=[\n",
    "        ZenoMetric(name=\"max retrieved score\", type=\"mean\", columns=[\"max_score\"]),\n",
    "        ZenoMetric(name=\"avg retrieved score\", type=\"mean\", columns=[\"avg_score\"]),\n",
    "        ZenoMetric(name=\"exact_match\", type=\"mean\", columns=[\"exact_match\"]),\n",
    "        ZenoMetric(name=\"f1\", type=\"mean\", columns=[\"f1\"]),\n",
    "        ZenoMetric(name=\"gold wiki_par_id set size\", type=\"mean\", columns=[\"gold wiki_par_id set size\"]),\n",
    "        ZenoMetric(name=\"substring_match\", type=\"mean\", columns=[\"substring_match\"]),\n",
    "        ZenoMetric(name=\"any wiki_id_match\", type=\"mean\", columns=[\"any wiki_id_match\"]),\n",
    "        ZenoMetric(name=\"any wiki_par_id_match\", type=\"mean\", columns=[\"any wiki_par_id_match\"]),\n",
    "        ZenoMetric(name=\"precision - wiki_id_match\", type=\"mean\", columns=[\"precision wiki_id_match\"]),\n",
    "        ZenoMetric(name=\"precision - wiki_par_id_match\", type=\"mean\", columns=[\"precision wiki_par_id_match\"]),\n",
    "        ZenoMetric(name=\"recall - wiki_id_match\", type=\"mean\", columns=[\"recall wiki_id_match\"]),\n",
    "        ZenoMetric(name=\"recall - wiki_par_id_match\", type=\"mean\", columns=[\"recall wiki_par_id_match\"]),\n",
    "    ],\n",
    ")"
   ]
  },
  {
   "cell_type": "code",
   "execution_count": 5,
   "metadata": {},
   "outputs": [
    {
     "name": "stdout",
     "output_type": "stream",
     "text": [
      "2837\n",
      "5600\n"
     ]
    }
   ],
   "source": [
    "datasets = ['nq', 'hotpotqa']\n",
    "gold_data = []\n",
    "for dataset in datasets:\n",
    "    with open(os.path.join(root_dir, 'data', f\"gold-{dataset}-dev-kilt.json\"), \"r\") as f:\n",
    "        data = json.load(f)\n",
    "    for d in data:\n",
    "        d['dataset'] = dataset\n",
    "    print(len(data))\n",
    "    gold_data = gold_data + sorted(data, key=lambda x: x[\"id\"])\n",
    "# gold_answer_set, gold_wiki_par_id_set, gold_wiki_par_text_set, gold_title_set = get_gold_sets(gold_data)\n"
   ]
  },
  {
   "cell_type": "code",
   "execution_count": 7,
   "metadata": {},
   "outputs": [
    {
     "name": "stdout",
     "output_type": "stream",
     "text": [
      "avg 2.0819011496977597 std 0.7030644840890109 min 1 max 12\n"
     ]
    },
    {
     "data": {
      "image/png": "[encoded data removed]",
      "text/plain": [
       "<Figure size 640x480 with 1 Axes>"
      ]
     },
     "metadata": {},
     "output_type": "display_data"
    },
    {
     "name": "stdout",
     "output_type": "stream",
     "text": [
      "avg 1.8745999762948915 std 0.5131120350581457 min 1 max 5\n"
     ]
    },
    {
     "data": {
      "image/png": "[encoded data removed]",
      "text/plain": [
       "<Figure size 640x480 with 1 Axes>"
      ]
     },
     "metadata": {},
     "output_type": "display_data"
    }
   ],
   "source": [
    "wiki_par_id_set_size = []\n",
    "wiki_id_set_size = []\n",
    "for d in gold_data:\n",
    "    wiki_par_id_set_size.append(len(d['output']['wiki_par_id_set']))\n",
    "    wiki_id_set_size.append(len(d['output']['wiki_id_set']))\n",
    "    \n",
    "import numpy as np\n",
    "\n",
    "import matplotlib.pyplot as plt\n",
    "def get_hist_info(size_set, unit):\n",
    "    print('avg', np.mean(size_set), 'std', np.std(size_set), 'min', np.min(size_set), 'max', np.max(size_set))\n",
    "        # gold_wiki_size = [len(s) for s in gold_wiki_par_id_set]\n",
    "\n",
    "    plt.hist(size_set, bins=np.arange(min(size_set)-0.5, max(size_set)+1.5, 1), edgecolor='black')\n",
    "\n",
    "    # Set the labels and title for the plot\n",
    "    plt.xlabel(f'gold {unit} set size')\n",
    "    plt.ylabel('frequency')\n",
    "    plt.title(f'gold {unit} set size - {dataset}')\n",
    "\n",
    "    # Set x-ticks to correspond to the integer values\n",
    "    plt.xticks(range(min(size_set), max(size_set) + 1))\n",
    "\n",
    "    # Display the plot\n",
    "    plt.show()\n",
    "    \n",
    "get_hist_info(wiki_par_id_set_size, unit = 'paragraph')\n",
    "get_hist_info(wiki_id_set_size, unit = 'page')"
   ]
  },
  {
   "cell_type": "code",
   "execution_count": 9,
   "metadata": {},
   "outputs": [
    {
     "data": {
      "application/vnd.jupyter.widget-view+json": {
       "model_id": "d65778aaa9ba4a1d8013967aaa81bb12",
       "version_major": 2,
       "version_minor": 0
      },
      "text/plain": [
       "  0%|          | 0/1 [00:00<?, ?it/s]"
      ]
     },
     "metadata": {},
     "output_type": "display_data"
    },
    {
     "name": "stdout",
     "output_type": "stream",
     "text": [
      "Successfully uploaded data\n"
     ]
    }
   ],
   "source": [
    "# data_df = pd.DataFrame({\"question\": [d[\"input\"] for d in gold_data], 'id': [d['id'] for d in gold_data]})\n",
    "# project.upload_dataset(data_df, id_column=\"id\", data_column=\"question\")"
   ]
  },
  {
   "cell_type": "code",
   "execution_count": 9,
   "metadata": {},
   "outputs": [],
   "source": [
    "# gold_wiki_size = [len(s) for s in gold_wiki_par_id_set]\n",
    "# import numpy as np\n",
    "# np.mean(gold_wiki_size), np.std(gold_wiki_size), np.min(gold_wiki_size), np.max(gold_wiki_size)\n",
    "# import matplotlib.pyplot as plt\n",
    "# plt.hist(gold_wiki_size, bins=np.arange(min(gold_wiki_size)-0.5, max(gold_wiki_size)+1.5, 1), edgecolor='black')\n",
    "\n",
    "# # Set the labels and title for the plot\n",
    "# plt.xlabel('Integer Values')\n",
    "# plt.ylabel('Frequency')\n",
    "# plt.title('Histogram of Integers')\n",
    "\n",
    "# # Set x-ticks to correspond to the integer values\n",
    "# plt.xticks(range(min(gold_wiki_size), max(gold_wiki_size) + 1))\n",
    "\n",
    "# # Display the plot\n",
    "# plt.show()"
   ]
  },
  {
   "cell_type": "code",
   "execution_count": 6,
   "metadata": {},
   "outputs": [],
   "source": [
    "def get_precision(guess_wiki_id_set, gold_wiki_id_set):\n",
    "    precision = np.mean([[s in gold_wiki_id_set] for s in guess_wiki_id_set])\n",
    "    return precision\n",
    "def get_recall(guess_wiki_id_set, gold_wiki_id_set):\n",
    "    # print(guess_wiki_id_set)\n",
    "    # print(gold_wiki_id_set)\n",
    "    recall = np.mean([[s in guess_wiki_id_set] for s in gold_wiki_id_set]) if len(gold_wiki_id_set) > 0 else 0.0\n",
    "    return recall"
   ]
  },
  {
   "cell_type": "code",
   "execution_count": 7,
   "metadata": {},
   "outputs": [],
   "source": [
    "import numpy as np\n",
    "def get_reader_df(top_k, combined_data):\n",
    "    return pd.DataFrame(\n",
    "        {\n",
    "            \"question\": [d['input'] for d in combined_data],\n",
    "            \"dataset\": [d['dataset'] for d in combined_data],\n",
    "            \"id\": [d['id'] for d in combined_data],\n",
    "            \"output\": [\n",
    "                json.dumps(\n",
    "                    {   \n",
    "                        \"gold answer set\": ', '.join(d['gold_answer_set']),\n",
    "                        \"gold title set\": ', '.join(d['gold_title_set']),\n",
    "                        # \"gold context set\": '\\n'.join(d['gold_text_set']),\n",
    "                        # \"gold context\": d['gold_context'],\n",
    "                        \"answer\": d[\"output\"][\"answer\"],\n",
    "                        \"retrieved context\": [\n",
    "                            {\n",
    "                                # \"wiki_id\": None,\n",
    "                                # \"text\": None,\n",
    "                                # \"score\": None,\n",
    "                                # \"wiki_id_match\": None,\n",
    "                                # \"wiki_par_id_match\": None\n",
    "                            }\n",
    "                        ] if top_k == 'baseline' else [\n",
    "                            {\n",
    "                                \"wiki_id\": \"[{idx}]({url})\".format(\n",
    "                                    idx=id2title[r[\"wiki_id\"]],\n",
    "                                    url=\"https://en.wikipedia.org/?curid=\"\n",
    "                                    + r[\"wiki_id\"],\n",
    "                                ),\n",
    "                                \"text\": r[\"text\"],\n",
    "                                \"score\": r[\"score\"],\n",
    "                                \"wiki_id_match\": r[\"wiki_id_match\"],\n",
    "                                \"wiki_par_id_match\": r[\"wiki_par_id_match\"]\n",
    "                            }\n",
    "                        for r in d[\"output\"][\"retrieved\"]\n",
    "                        ],\n",
    "                    }\n",
    "                )\n",
    "                for d in combined_data\n",
    "            ],\n",
    "            \n",
    "            \"gold wiki_par_id set size\": [\n",
    "                len(d[\"gold_wiki_par_id_set\"]) for d in combined_data\n",
    "            ],\n",
    "            \"max_score\": [0 for d in combined_data] if top_k == 'baseline' else [\n",
    "                d[\"output\"][\"retrieved\"][0][\"score\"] for d in combined_data\n",
    "            ],\n",
    "            \"avg_score\": [0 for d in combined_data] if top_k == 'baseline' else [\n",
    "                np.mean([r[\"score\"] for r in d[\"output\"][\"retrieved\"]]) for d in combined_data\n",
    "            ],\n",
    "            \"f1\": [\n",
    "                d[\"output\"][\"answer_evaluation\"][\"f1\"] for d in combined_data\n",
    "            ],\n",
    "            \"exact_match\": [\n",
    "                d[\"output\"][\"answer_evaluation\"][\"exact_match\"] for d in combined_data\n",
    "            ],\n",
    "            \"substring_match\": [\n",
    "                d[\"output\"][\"answer_evaluation\"][\"substring_match\"] for d in combined_data\n",
    "            ],\n",
    "            \"any wiki_id_match\": [False for d in combined_data] if top_k == 'baseline' else [\n",
    "                d[\"output\"][\"summary context evaluation\"][\"wiki_id_match\"] for d in combined_data\n",
    "            ],\n",
    "            \"any wiki_par_id_match\": [False for d in combined_data] if top_k == 'baseline' else [\n",
    "                d[\"output\"][\"summary context evaluation\"][\"wiki_par_id_match\"] for d in combined_data\n",
    "            ],\n",
    "            \"precision wiki_id_match\": [0 for d in combined_data] if top_k == 'baseline' else [\n",
    "                get_precision(set([r[\"wiki_id\"] for r in d[\"output\"][\"retrieved\"]]), d['gold_wiki_id_set']) for d in combined_data\n",
    "            ],\n",
    "            \"precision wiki_par_id_match\": [0 for d in combined_data] if top_k == 'baseline' else [\n",
    "                get_precision(set([r[\"wiki_par_id\"] for r in d[\"output\"][\"retrieved\"]]), d['gold_wiki_par_id_set']) for d in combined_data\n",
    "            ],\n",
    "            \"recall wiki_id_match\": [0 for d in combined_data] if top_k == 'baseline' else [\n",
    "                get_recall(set([r[\"wiki_id\"] for r in d[\"output\"][\"retrieved\"]]), d['gold_wiki_id_set']) for d in combined_data\n",
    "            ],\n",
    "            \"recall wiki_par_id_match\": [0 for d in combined_data] if top_k == 'baseline' else [\n",
    "                get_recall(set([r[\"wiki_par_id\"] for r in d[\"output\"][\"retrieved\"]]), d['gold_wiki_par_id_set']) for d in combined_data\n",
    "            ]\n",
    "        }\n",
    "    )\n",
    "    # return output_df\n",
    "# output_df[\"id\"] = "
   ]
  },
  {
   "cell_type": "code",
   "execution_count": 8,
   "metadata": {},
   "outputs": [],
   "source": [
    "def combine_gold_and_compiled(output_data, gold_data):\n",
    "    \n",
    "    for i, (od, gd) in enumerate(zip(output_data, gold_data)):\n",
    "        # print(i)\n",
    "        # print('output', od)\n",
    "        # print('gold', gd)\n",
    "        if(od['id'] != gd['id']):\n",
    "            print(od, gd)\n",
    "            break\n",
    "        # od['gold_title_set'] = gd['output']['answer_set']\n",
    "        od['dataset'] = gd['dataset']\n",
    "        od['gold_answer_set'] = gd['output']['answer_set']\n",
    "        od['gold_wiki_id_set'] = gd['output']['wiki_id_set']\n",
    "        od['gold_wiki_par_id_set'] = gd['output']['wiki_par_id_set']\n",
    "        od['gold_title_set'] = gd['output']['title_set']\n",
    "    return output_data"
   ]
  },
  {
   "cell_type": "code",
   "execution_count": 11,
   "metadata": {},
   "outputs": [
    {
     "name": "stdout",
     "output_type": "stream",
     "text": [
      "retriever bm25\n",
      "reader llama\n",
      "baseline\n"
     ]
    },
    {
     "data": {
      "application/vnd.jupyter.widget-view+json": {
       "model_id": "a6ec8bdd4c4c41049f0c168cbce29512",
       "version_major": 2,
       "version_minor": 0
      },
      "text/plain": [
       "  0%|          | 0/3 [00:00<?, ?it/s]"
      ]
     },
     "metadata": {},
     "output_type": "display_data"
    },
    {
     "name": "stdout",
     "output_type": "stream",
     "text": [
      "Successfully uploaded system\n",
      "retriever bm25\n",
      "reader flanT5\n",
      "baseline\n"
     ]
    },
    {
     "data": {
      "application/vnd.jupyter.widget-view+json": {
       "model_id": "cf907ada010240eab923299604e258a2",
       "version_major": 2,
       "version_minor": 0
      },
      "text/plain": [
       "  0%|          | 0/3 [00:00<?, ?it/s]"
      ]
     },
     "metadata": {},
     "output_type": "display_data"
    },
    {
     "name": "stdout",
     "output_type": "stream",
     "text": [
      "Successfully uploaded system\n"
     ]
    }
   ],
   "source": [
    "reader_models = ['llama', 'flanT5']\n",
    "# reader_models = ['flanT5']\n",
    "# retriever_models = ['bm25', 'colbert']\n",
    "retriever_models = ['bm25']\n",
    "top_ks= [\"baseline\", \"top1\", \"top2\", \"top3\", \"top5\", \"top10\", \"top20\", \"top30\", \"top50\"]\n",
    "top_ks = ['baseline']\n",
    "# top_k = 'baseline'\n",
    "for retriever_model in retriever_models:\n",
    "    for reader_model in reader_models:\n",
    "    \n",
    "        print('retriever', retriever_model)\n",
    "        print('reader', reader_model)\n",
    "        for top_k in top_ks:\n",
    "            print(top_k)\n",
    "            data = []\n",
    "            for dataset in datasets:\n",
    "                with open(os.path.join(results_dir, reader_model, dataset, retriever_model, f\"{top_k}/reader_results_zeno.json\"), \"r\") as f:\n",
    "                    data = data + json.load(f)\n",
    "                    \n",
    "            combined_data = combine_gold_and_compiled(data, gold_data)\n",
    "            # if (top_k != 'baseline'):\n",
    "            output_df = get_reader_df(top_k, combined_data)\n",
    "            # else:\n",
    "            #     output_df = get_baseline_df(combined_data)\n",
    "            # break\n",
    "            if top_k == 'baseline':\n",
    "                project.upload_system(\n",
    "                output_df, name= (reader_model + ' ' + top_k), id_column=\"id\", output_column=\"output\"\n",
    "            )\n",
    "            else:\n",
    "                project.upload_system(\n",
    "                    output_df, name= (retriever_model + ' ' + reader_model + ' ' + top_k), id_column=\"id\", output_column=\"output\"\n",
    "                )\n",
    "    # if (top_k == 'top1'):\n",
    "    #     break"
   ]
  },
  {
   "cell_type": "code",
   "execution_count": null,
   "metadata": {},
   "outputs": [],
   "source": []
  }
 ],
 "metadata": {
  "kernelspec": {
   "display_name": "compare",
   "language": "python",
   "name": "python3"
  },
  "language_info": {
   "codemirror_mode": {
    "name": "ipython",
    "version": 3
   },
   "file_extension": ".py",
   "mimetype": "text/x-python",
   "name": "python",
   "nbconvert_exporter": "python",
   "pygments_lexer": "ipython3",
   "version": "3.10.13"
  }
 },
 "nbformat": 4,
 "nbformat_minor": 2
}
