{
 "cells": [
  {
   "cell_type": "code",
   "execution_count": 1,
   "metadata": {},
   "outputs": [],
   "source": [
    "import numpy as np\n",
    "import json\n"
   ]
  },
  {
   "cell_type": "code",
   "execution_count": 19,
   "metadata": {},
   "outputs": [
    {
     "name": "stdout",
     "output_type": "stream",
     "text": [
      "0\n",
      "1000\n",
      "2000\n",
      "3000\n",
      "done\n"
     ]
    }
   ],
   "source": [
    "import json\n",
    "dataset = 'bioasq'\n",
    "input_file = f\"/data/user_data/jhsia2/dbqa/data/{dataset}.jsonl\"\n",
    "dataset = dataset.split('_')[0]\n",
    "output_file = f\"/data/user_data/jhsia2/dbqa/data/gold-{dataset}.json\"\n",
    "\n",
    "\n",
    "is_bioasq = True if dataset == 'bioasq' else False\n",
    "if is_bioasq:\n",
    "    docid_key = 'pmid'\n",
    "    docid_name = 'pm'\n",
    "    section_key = 'section'\n",
    "    section_name = 'sec'\n",
    "else:\n",
    "    docid_key = 'wikipedia_id'\n",
    "    docid_name = 'wiki'\n",
    "    section_key = 'start_paragraph_id'\n",
    "    section_name = 'par'\n",
    "\n",
    "# print('total num documents = 5903530')\n",
    "num_par_docs = 0\n",
    "gold_data_list = []\n",
    "with open(input_file, 'r') as infile, open(output_file, 'w') as outfile:\n",
    "    for l_id, line in enumerate(infile):\n",
    "        if (l_id%1000==0):\n",
    "            print(l_id)\n",
    "        data = json.loads(line)\n",
    "        new_data = {}\n",
    "        new_data['id'] = data['id']\n",
    "        # print(data)\n",
    "        new_data['input'] = data['input']\n",
    "        new_data['output'] = {'answer_set' : set(), \\\n",
    "                              'title_set': set(), \\\n",
    "                              f'{docid_name}_id_set' : set(), \\\n",
    "                                f'{docid_name}_{section_name}_id_set': set()}\n",
    "        \n",
    "        for output in data['output']:\n",
    "            ans = output.get('answer', None)\n",
    "            if (ans):\n",
    "                new_data['output']['answer_set'].add(ans)\n",
    "            provs = output.get('provenance', None)\n",
    "            if provs:\n",
    "                for prov in provs:\n",
    "                    wiki_id = prov.get(f'{docid_key}', None) \n",
    "                    if is_bioasq:\n",
    "                        start_par_id = 0 if prov.get(f'{section_key}', None)== 'title' else 1\n",
    "                        # end_par_id = prov.get('end_paragraph_id', None) \n",
    "                        end_par_id = start_par_id\n",
    "                    else:\n",
    "                        start_par_id = (int)(prov.get(f'{section_key}_id', None))\n",
    "                        end_par_id = start_par_id\n",
    "                    end_par_id = (int)(start_par_id)\n",
    "                    title = prov.get('title', None)\n",
    "                    if(wiki_id):\n",
    "                        new_data['output'][f'{docid_name}_id_set'].add(wiki_id)\n",
    "                    # if (start_par_id and end_par_id):\n",
    "                        for p_id in range(start_par_id, end_par_id+1):\n",
    "                            new_data['output'][f'{docid_name}_{section_name}_id_set'].add(wiki_id + '_' + str(p_id))\n",
    "                    if title:\n",
    "                        new_data['output']['title_set'].add(title)\n",
    "        for k in new_data['output']:\n",
    "            new_data['output'][k] = list(new_data['output'][k])\n",
    "        # outfile.write(json.dumps(new_data) + \"\\n\")\n",
    "        gold_data_list.append(new_data)\n",
    "        # break\n",
    "print('done')\n",
    "with open(output_file, 'w') as file:\n",
    "    # Use json.dump to write the list of dictionaries to the file\n",
    "    json.dump(gold_data_list, file, indent=4)"
   ]
  }
 ],
 "metadata": {
  "kernelspec": {
   "display_name": "py10",
   "language": "python",
   "name": "python3"
  },
  "language_info": {
   "codemirror_mode": {
    "name": "ipython",
    "version": 3
   },
   "file_extension": ".py",
   "mimetype": "text/x-python",
   "name": "python",
   "nbconvert_exporter": "python",
   "pygments_lexer": "ipython3",
   "version": "3.10.13"
  }
 },
 "nbformat": 4,
 "nbformat_minor": 2
}
