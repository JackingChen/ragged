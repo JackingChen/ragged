{
 "cells": [
  {
   "cell_type": "code",
   "execution_count": 1,
   "metadata": {},
   "outputs": [],
   "source": [
    "import numpy as np\n",
    "import json\n"
   ]
  },
  {
   "cell_type": "code",
   "execution_count": 25,
   "metadata": {},
   "outputs": [
    {
     "name": "stdout",
     "output_type": "stream",
     "text": [
      "0\n",
      "1000\n",
      "2000\n",
      "done\n"
     ]
    }
   ],
   "source": [
    "import json\n",
    "input_file = \"nq-dev-kilt.jsonl\"\n",
    "output_file = \"gold-nq-dev-kilt.json\"\n",
    "\n",
    "# print('total num documents = 5903530')\n",
    "num_par_docs = 0\n",
    "gold_data_list = []\n",
    "with open(input_file, 'r') as infile, open(output_file, 'w') as outfile:\n",
    "    for l_id, line in enumerate(infile):\n",
    "        if (l_id%1000==0):\n",
    "            print(l_id)\n",
    "        data = json.loads(line)\n",
    "        new_data = {}\n",
    "        new_data['id'] = data['id']\n",
    "        # print(data)\n",
    "        new_data['output'] = {'answer_set' : set(), \\\n",
    "                              'wiki_id_set' : set(), \\\n",
    "                                'wiki_par_id_set': set()}\n",
    "        \n",
    "        for p in data['output']:\n",
    "            ans = p.get('answer', None)\n",
    "            if (ans):\n",
    "                new_data['output']['answer_set'].add(ans)\n",
    "            prov = p.get('provenance', None)\n",
    "            if prov:\n",
    "                prov = prov[0]\n",
    "                wiki_id = prov.get('wikipedia_id', None) \n",
    "                start_par_id = prov.get('start_paragraph_id', None) \n",
    "                end_par_id = prov.get('end_paragraph_id', None) \n",
    "                if(wiki_id):\n",
    "                    new_data['output']['wiki_id_set'].add(wiki_id)\n",
    "                if (start_par_id and end_par_id):\n",
    "                    for p_id in range(start_par_id, end_par_id+1):\n",
    "                        new_data['output']['wiki_par_id_set'].add(wiki_id + '_' + str(p_id))\n",
    "        for k in new_data['output']:\n",
    "            new_data['output'][k] = list(new_data['output'][k])\n",
    "        # outfile.write(json.dumps(new_data) + \"\\n\")\n",
    "        gold_data_list.append(new_data)\n",
    "        # break\n",
    "print('done')\n",
    "# print('num_par_docs = ', num_par_docs)"
   ]
  },
  {
   "cell_type": "code",
   "execution_count": 26,
   "metadata": {},
   "outputs": [],
   "source": [
    "with open(output_file, 'w') as file:\n",
    "    # Use json.dump to write the list of dictionaries to the file\n",
    "    json.dump(gold_data_list, file, indent=4)"
   ]
  },
  {
   "cell_type": "code",
   "execution_count": null,
   "metadata": {},
   "outputs": [],
   "source": []
  }
 ],
 "metadata": {
  "kernelspec": {
   "display_name": "py10",
   "language": "python",
   "name": "python3"
  },
  "language_info": {
   "codemirror_mode": {
    "name": "ipython",
    "version": 3
   },
   "file_extension": ".py",
   "mimetype": "text/x-python",
   "name": "python",
   "nbconvert_exporter": "python",
   "pygments_lexer": "ipython3",
   "version": "3.10.13"
  }
 },
 "nbformat": 4,
 "nbformat_minor": 2
}
