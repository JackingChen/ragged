{
 "cells": [
  {
   "cell_type": "code",
   "execution_count": 1,
   "metadata": {},
   "outputs": [
    {
     "data": {
      "text/plain": [
       "False"
      ]
     },
     "execution_count": 1,
     "metadata": {},
     "output_type": "execute_result"
    }
   ],
   "source": [
    "from zeno_client import ZenoClient, ZenoMetric\n",
    "import pandas as pd\n",
    "import json\n",
    "import os\n",
    "from dotenv import load_dotenv\n",
    "\n",
    "load_dotenv(override=True)"
   ]
  },
  {
   "cell_type": "code",
   "execution_count": 2,
   "metadata": {},
   "outputs": [],
   "source": [
    "root_dir = '/data/user_data/jhsia2/dbqa'\n",
    "results_dir = os.path.join(root_dir, 'reader_results')\n",
    "client = ZenoClient('zen_EZ7LuqItWgObcQmIvNZVytvhtTh8JMs2HrSzzfXsiIg')\n"
   ]
  },
  {
   "cell_type": "code",
   "execution_count": null,
   "metadata": {},
   "outputs": [],
   "source": [
    "def combine_gold_and_compiled(output_data, gold_answer_set, gold_wiki_par_id_set, gold_wiki_par_text_set, gold_title_set):\n",
    "    for i, od in enumerate(output_data):\n",
    "        od['gold_answer_set'] = gold_answer_set[i]\n",
    "        od['gold_title_set'] = gold_title_set[i]\n",
    "        od['gold_id_set'] = gold_wiki_par_id_set[i]\n",
    "        od['gold_text_set'] = gold_wiki_par_text_set[i]\n",
    "    return output_data"
   ]
  },
  {
   "cell_type": "code",
   "execution_count": null,
   "metadata": {},
   "outputs": [
    {
     "ename": "AttributeError",
     "evalue": "'list' object has no attribute 'add'",
     "output_type": "error",
     "traceback": [
      "\u001b[0;31m---------------------------------------------------------------------------\u001b[0m",
      "\u001b[0;31mAttributeError\u001b[0m                            Traceback (most recent call last)",
      "\u001b[1;32m/home/jhsia2/ragged/zeno/document-qa-zeno.ipynb Cell 4\u001b[0m line \u001b[0;36m1\n\u001b[1;32m     <a href='vscode-notebook-cell://ssh-remote%2Bbabel-4-18/home/jhsia2/ragged/zeno/document-qa-zeno.ipynb#X22sdnNjb2RlLXJlbW90ZQ%3D%3D?line=12'>13</a>\u001b[0m wiki_par_id \u001b[39m=\u001b[39m \u001b[39mf\u001b[39m\u001b[39m\"\u001b[39m\u001b[39m{\u001b[39;00mr[\u001b[39m'\u001b[39m\u001b[39mwikipedia_id\u001b[39m\u001b[39m'\u001b[39m]\u001b[39m}\u001b[39;00m\u001b[39m_\u001b[39m\u001b[39m{\u001b[39;00mr[\u001b[39m'\u001b[39m\u001b[39mstart_paragraph_id\u001b[39m\u001b[39m'\u001b[39m]\u001b[39m}\u001b[39;00m\u001b[39m\"\u001b[39m\n\u001b[1;32m     <a href='vscode-notebook-cell://ssh-remote%2Bbabel-4-18/home/jhsia2/ragged/zeno/document-qa-zeno.ipynb#X22sdnNjb2RlLXJlbW90ZQ%3D%3D?line=13'>14</a>\u001b[0m \u001b[39m# if (wiki_par_id not in gold_wiki_par_id_set):\u001b[39;00m\n\u001b[0;32m---> <a href='vscode-notebook-cell://ssh-remote%2Bbabel-4-18/home/jhsia2/ragged/zeno/document-qa-zeno.ipynb#X22sdnNjb2RlLXJlbW90ZQ%3D%3D?line=14'>15</a>\u001b[0m gold_wiki_par_id_set\u001b[39m.\u001b[39;49madd(wiki_par_id)\n\u001b[1;32m     <a href='vscode-notebook-cell://ssh-remote%2Bbabel-4-18/home/jhsia2/ragged/zeno/document-qa-zeno.ipynb#X22sdnNjb2RlLXJlbW90ZQ%3D%3D?line=15'>16</a>\u001b[0m gold_wiki_par_text_set\u001b[39m.\u001b[39madd(r[\u001b[39m'\u001b[39m\u001b[39mtext\u001b[39m\u001b[39m'\u001b[39m])\n\u001b[1;32m     <a href='vscode-notebook-cell://ssh-remote%2Bbabel-4-18/home/jhsia2/ragged/zeno/document-qa-zeno.ipynb#X22sdnNjb2RlLXJlbW90ZQ%3D%3D?line=18'>19</a>\u001b[0m \u001b[39m# if (r['start_paragraph_id']!= r['end_paragraph_id']):\u001b[39;00m\n\u001b[1;32m     <a href='vscode-notebook-cell://ssh-remote%2Bbabel-4-18/home/jhsia2/ragged/zeno/document-qa-zeno.ipynb#X22sdnNjb2RlLXJlbW90ZQ%3D%3D?line=19'>20</a>\u001b[0m \u001b[39m#     print(d)\u001b[39;00m\n\u001b[1;32m     <a href='vscode-notebook-cell://ssh-remote%2Bbabel-4-18/home/jhsia2/ragged/zeno/document-qa-zeno.ipynb#X22sdnNjb2RlLXJlbW90ZQ%3D%3D?line=20'>21</a>\u001b[0m \u001b[39m# for i in range(r['start_paragraph_id'], r['end_paragraph_id']):\u001b[39;00m\n\u001b[1;32m     <a href='vscode-notebook-cell://ssh-remote%2Bbabel-4-18/home/jhsia2/ragged/zeno/document-qa-zeno.ipynb#X22sdnNjb2RlLXJlbW90ZQ%3D%3D?line=21'>22</a>\u001b[0m \u001b[39m#     if f'{wiki_id}_{i}' not in gold_wiki_par_id_set:\u001b[39;00m\n\u001b[1;32m     <a href='vscode-notebook-cell://ssh-remote%2Bbabel-4-18/home/jhsia2/ragged/zeno/document-qa-zeno.ipynb#X22sdnNjb2RlLXJlbW90ZQ%3D%3D?line=22'>23</a>\u001b[0m \u001b[39m#         gold_wiki_par_id_set.append(f'{wiki_id}_{i}')\u001b[39;00m\n\u001b[1;32m     <a href='vscode-notebook-cell://ssh-remote%2Bbabel-4-18/home/jhsia2/ragged/zeno/document-qa-zeno.ipynb#X22sdnNjb2RlLXJlbW90ZQ%3D%3D?line=23'>24</a>\u001b[0m \u001b[39m#         gold_wiki_par_text_set.append()\u001b[39;00m\n",
      "\u001b[0;31mAttributeError\u001b[0m: 'list' object has no attribute 'add'"
     ]
    }
   ],
   "source": [
    "def get_gold_sets(gold_data):\n",
    "    gold_answer_set = []\n",
    "    gold_wiki_par_id_set = []\n",
    "    gold_wiki_par_text_set = []\n",
    "    gold_title_set = []\n",
    "    for d in gold_data:\n",
    "        answer_set = set()\n",
    "        wiki_par_id_set = set()\n",
    "        wiki_par_text_set = set()\n",
    "        title_set = set()\n",
    "        \n",
    "        answer_set = set()\n",
    "        for a in d['output']:\n",
    "            answer_set.add(a['answer'])\n",
    "            for r  in a['retrieved']:\n",
    "                wiki_par_id = f\"{r['wikipedia_id']}_{r['start_paragraph_id']}\"\n",
    "                title_set.add(r['title'])\n",
    "                # if (wiki_par_id not in gold_wiki_par_id_set):\n",
    "                wiki_par_id_set.add(wiki_par_id)\n",
    "                wiki_par_text_set.add(r['text'])\n",
    "        gold_answer_set.append(answer_set)\n",
    "        gold_title_set.append(title_set)\n",
    "        gold_wiki_par_id_set.append(wiki_par_id_set)\n",
    "        gold_wiki_par_text_set.append(wiki_par_text_set)\n",
    "    return gold_answer_set, gold_wiki_par_id_set, gold_wiki_par_text_set, gold_title_set "
   ]
  },
  {
   "cell_type": "code",
   "execution_count": null,
   "metadata": {},
   "outputs": [],
   "source": [
    "dataset = 'nq'"
   ]
  },
  {
   "cell_type": "code",
   "execution_count": 5,
   "metadata": {},
   "outputs": [
    {
     "name": "stdout",
     "output_type": "stream",
     "text": [
      "Successfully created project.\n",
      "Access your project at  https://hub.zenoml.com/project/jhsia2/Document%20QA%20-%20hotpotqa\n"
     ]
    }
   ],
   "source": [
    "project = client.create_project(\n",
    "    name=f\"Document QA - {dataset}\",\n",
    "    view={\n",
    "        \"data\": {\"type\": \"text\", \n",
    "                 \"label\": \"question:\"\n",
    "                },\n",
    "        \"label\": {\"type\": \"text\"},\n",
    "        \"output\": {\n",
    "            \"type\": \"vstack\",\n",
    "            \"keys\": {\n",
    "                \"gold answer set\": {\"type\": \"text\", \"label\": \"gold answer set: \"},\n",
    "                \"gold title set\": {\"type\": \"text\", \"label\": \"gold title set: \"},\n",
    "                # \"gold context set\": {\"type\": \"text\", \"label\": \"gold text set: \"},\n",
    "                \"answer\": {\"type\": \"text\", \"label\": \"reader answer: \"},\n",
    "                \"retrieved context\": {\n",
    "                    \"type\": \"list\",\n",
    "                    \"elements\": {\n",
    "                        \"type\": \"vstack\",\n",
    "                        \"keys\": {\n",
    "                            \"score\": {\"type\": \"text\", \"label\": \"score: \"},\n",
    "                            \"wiki_id\": {\"type\": \"markdown\"},\n",
    "                            \"text\": {\"type\": \"text\", \"label\": \"text: \"},\n",
    "                            \"wiki_id_match\": {\"type\": \"text\", \"label\": \"wiki_id match: \"},\n",
    "                            \"wiki_par_id_match\": {\"type\": \"text\", \"label\": \"wiki_par_id match: \"}\n",
    "                        },\n",
    "                    },\n",
    "                    \"collapsible\": \"bottom\",\n",
    "                    \"border\": True,\n",
    "                    \"pad\": True,\n",
    "                },\n",
    "            },\n",
    "        },\n",
    "    },\n",
    "    description=\"Document-grounded question answering with Wikipedia\",\n",
    "    metrics=[\n",
    "        ZenoMetric(name=\"max retrieved score\", type=\"mean\", columns=[\"max_score\"]),\n",
    "        ZenoMetric(name=\"avg retrieved score\", type=\"mean\", columns=[\"avg_score\"]),\n",
    "        ZenoMetric(name=\"exact_match\", type=\"mean\", columns=[\"exact_match\"]),\n",
    "        ZenoMetric(name=\"f1\", type=\"mean\", columns=[\"f1\"]),\n",
    "        ZenoMetric(name=\"substring_match\", type=\"mean\", columns=[\"substring_match\"]),\n",
    "        ZenoMetric(name=\"any wiki_id_match\", type=\"mean\", columns=[\"any wiki_id_match\"]),\n",
    "        ZenoMetric(name=\"any wiki_par_id_match\", type=\"mean\", columns=[\"any wiki_par_id_match\"]),\n",
    "        ZenoMetric(name=\"precision - wiki_id_match\", type=\"mean\", columns=[\"precision wiki_id_match\"]),\n",
    "        ZenoMetric(name=\"precision - wiki_par_id_match\", type=\"mean\", columns=[\"precision wiki_par_id_match\"]),\n",
    "        ZenoMetric(name=\"recall - wiki_id_match\", type=\"mean\", columns=[\"recall wiki_id_match\"]),\n",
    "        ZenoMetric(name=\"recall - wiki_par_id_match\", type=\"mean\", columns=[\"recall wiki_par_id_match\"]),\n",
    "    ],\n",
    ")"
   ]
  },
  {
   "cell_type": "code",
   "execution_count": 6,
   "metadata": {},
   "outputs": [
    {
     "data": {
      "application/vnd.jupyter.widget-view+json": {
       "model_id": "99ac07abcfe445f89e4d653056c8e9b1",
       "version_major": 2,
       "version_minor": 0
      },
      "text/plain": [
       "  0%|          | 0/1 [00:00<?, ?it/s]"
      ]
     },
     "metadata": {},
     "output_type": "display_data"
    },
    {
     "name": "stdout",
     "output_type": "stream",
     "text": [
      "Successfully uploaded data\n"
     ]
    }
   ],
   "source": [
    "\n",
    "with open(os.path.join(root_dir, 'data', f\"gold_{dataset}_zeno_file.json\"), \"r\") as f:\n",
    "    gold_data = json.load(f)\n",
    "gold_data = sorted(gold_data, key=lambda x: x[\"id\"])\n",
    "gold_answer_set, gold_wiki_par_id_set, gold_wiki_par_text_set, gold_title_set = get_gold_sets(gold_data)\n",
    "data_df = pd.DataFrame({\"question\": [d[\"input\"] for d in gold_data], 'id': [d['id'] for d in gold_data]})\n",
    "project.upload_dataset(data_df, id_column=\"id\", data_column=\"question\")"
   ]
  },
  {
   "cell_type": "code",
   "execution_count": null,
   "metadata": {},
   "outputs": [],
   "source": [
    "gold_wiki_size = [len(s) for s in gold_wiki_par_id_set]\n",
    "import numpy as np\n",
    "np.mean(gold_wiki_size), np.std(gold_wiki_size), np.min(gold_wiki_size), np.max(gold_wiki_size)\n",
    "import matplotlib.pyplot as plt\n",
    "plt.hist(gold_wiki_size, bins=np.arange(min(gold_wiki_size)-0.5, max(gold_wiki_size)+1.5, 1), edgecolor='black')\n",
    "\n",
    "# Set the labels and title for the plot\n",
    "plt.xlabel('Integer Values')\n",
    "plt.ylabel('Frequency')\n",
    "plt.title('Histogram of Integers')\n",
    "\n",
    "# Set x-ticks to correspond to the integer values\n",
    "plt.xticks(range(min(gold_wiki_size), max(gold_wiki_size) + 1))\n",
    "\n",
    "# Display the plot\n",
    "plt.show()"
   ]
  },
  {
   "cell_type": "code",
   "execution_count": 41,
   "metadata": {},
   "outputs": [],
   "source": [
    "import numpy as np\n",
    "def get_reader_df(top_k, combined_data):\n",
    "    return pd.DataFrame(\n",
    "        {\n",
    "            \"question\": [d['input'] for d in combined_data],\n",
    "            \"id\": [d['id'] for d in combined_data],\n",
    "            \"output\": [\n",
    "                json.dumps(\n",
    "                    {   \n",
    "                        \"gold answer set\": ', '.join(d['gold_answer_set']),\n",
    "                        \"gold title set\": ', '.join(d['gold_title_set']),\n",
    "                        \"gold context set\": '\\n'.join(d['gold_text_set']),\n",
    "                        # \"gold context\": d['gold_context'],\n",
    "                        \"answer\": d[\"output\"][\"answer\"],\n",
    "                        \"retrieved context\": [\n",
    "                            {\n",
    "                                \"wiki_id\": None,\n",
    "                                \"text\": None,\n",
    "                                \"score\": None,\n",
    "                                \"wiki_id_match\": None,\n",
    "                                \"wiki_par_id_match\": None\n",
    "                            }\n",
    "                        ] if top_k == 'baseline' else [\n",
    "                            {\n",
    "                                \"wiki_id\": \"[{idx}]({url})\".format(\n",
    "                                    idx=r[\"wiki_id\"],\n",
    "                                    url=\"https://en.wikipedia.org/?curid=\"\n",
    "                                    + r[\"wiki_id\"],\n",
    "                                ),\n",
    "                                \"text\": r[\"text\"],\n",
    "                                \"score\": r[\"score\"],\n",
    "                                \"wiki_id_match\": r[\"wiki_id_match\"],\n",
    "                                \"wiki_par_id_match\": r[\"wiki_par_id_match\"]\n",
    "                            }\n",
    "                        for r in d[\"output\"][\"retrieved\"]\n",
    "                        ],\n",
    "                    }\n",
    "                )\n",
    "                for d in combined_data\n",
    "            ],\n",
    "            \"max_score\": [None for d in combined_data] if top_k == 'baseline' else [\n",
    "                d[\"output\"][\"retrieved\"][0][\"score\"] for d in combined_data\n",
    "            ],\n",
    "            \"avg_score\": [None for d in combined_data] if top_k == 'baseline' else [\n",
    "                np.mean([r[\"score\"] for r in d[\"output\"][\"retrieved\"]]) for d in combined_data\n",
    "            ],\n",
    "            \"f1\": [\n",
    "                d[\"output\"][\"answer_evaluation\"][\"f1\"] for d in combined_data\n",
    "            ],\n",
    "            \"exact_match\": [\n",
    "                d[\"output\"][\"answer_evaluation\"][\"exact_match\"] for d in combined_data\n",
    "            ],\n",
    "            \"substring_match\": [\n",
    "                d[\"output\"][\"answer_evaluation\"][\"substring_match\"] for d in combined_data\n",
    "            ],\n",
    "            \"avg wiki_id_match\": [None for d in combined_data] if top_k == 'baseline' else [\n",
    "                np.mean([r[\"wiki_id_match\"] for r in d[\"output\"][\"retrieved\"]]) for d in combined_data\n",
    "            ],\n",
    "            \"avg wiki_par_id_match\": [None for d in combined_data] if top_k == 'baseline' else [\n",
    "                np.mean([r[\"wiki_par_id_match\"] for r in d[\"output\"][\"retrieved\"]]) for d in combined_data\n",
    "            ],\n",
    "            \"any wiki_id_match\": [None for d in combined_data] if top_k == 'baseline' else [\n",
    "                d[\"output\"][\"summary context evaluation\"][\"wiki_id_match\"] for d in combined_data\n",
    "            ],\n",
    "            \"any wiki_par_id_match\": [None for d in combined_data] if top_k == 'baseline' else [\n",
    "                d[\"output\"][\"summary context evaluation\"][\"wiki_par_id_match\"] for d in combined_data\n",
    "            ]\n",
    "        }\n",
    "    )\n",
    "    # return output_df\n",
    "# output_df[\"id\"] = "
   ]
  },
  {
   "cell_type": "code",
   "execution_count": 44,
   "metadata": {},
   "outputs": [
    {
     "name": "stdout",
     "output_type": "stream",
     "text": [
      "baseline\n"
     ]
    },
    {
     "data": {
      "application/vnd.jupyter.widget-view+json": {
       "model_id": "4e570c0ed71b4306a24fb6734ef3796d",
       "version_major": 2,
       "version_minor": 0
      },
      "text/plain": [
       "  0%|          | 0/3 [00:00<?, ?it/s]"
      ]
     },
     "metadata": {},
     "output_type": "display_data"
    },
    {
     "name": "stdout",
     "output_type": "stream",
     "text": [
      "Successfully uploaded system\n",
      "top1\n"
     ]
    },
    {
     "data": {
      "application/vnd.jupyter.widget-view+json": {
       "model_id": "1b04380630154b739dc349d54c9f9ed9",
       "version_major": 2,
       "version_minor": 0
      },
      "text/plain": [
       "  0%|          | 0/4 [00:00<?, ?it/s]"
      ]
     },
     "metadata": {},
     "output_type": "display_data"
    },
    {
     "name": "stdout",
     "output_type": "stream",
     "text": [
      "Successfully uploaded system\n",
      "top2\n"
     ]
    },
    {
     "data": {
      "application/vnd.jupyter.widget-view+json": {
       "model_id": "6869b4e619fe4b4b83ffe31847957f75",
       "version_major": 2,
       "version_minor": 0
      },
      "text/plain": [
       "  0%|          | 0/6 [00:00<?, ?it/s]"
      ]
     },
     "metadata": {},
     "output_type": "display_data"
    },
    {
     "name": "stdout",
     "output_type": "stream",
     "text": [
      "Successfully uploaded system\n",
      "top3\n"
     ]
    },
    {
     "data": {
      "application/vnd.jupyter.widget-view+json": {
       "model_id": "98ec986459f648bead6eabfcc257c8f0",
       "version_major": 2,
       "version_minor": 0
      },
      "text/plain": [
       "  0%|          | 0/8 [00:00<?, ?it/s]"
      ]
     },
     "metadata": {},
     "output_type": "display_data"
    },
    {
     "name": "stdout",
     "output_type": "stream",
     "text": [
      "Successfully uploaded system\n",
      "top5\n"
     ]
    },
    {
     "data": {
      "application/vnd.jupyter.widget-view+json": {
       "model_id": "02ab61a6d030449a8f05bbe1935491fd",
       "version_major": 2,
       "version_minor": 0
      },
      "text/plain": [
       "  0%|          | 0/12 [00:00<?, ?it/s]"
      ]
     },
     "metadata": {},
     "output_type": "display_data"
    },
    {
     "name": "stdout",
     "output_type": "stream",
     "text": [
      "Successfully uploaded system\n",
      "top10\n"
     ]
    },
    {
     "data": {
      "application/vnd.jupyter.widget-view+json": {
       "model_id": "2c2eb58bcb4c44c58a4e097f3083d64e",
       "version_major": 2,
       "version_minor": 0
      },
      "text/plain": [
       "  0%|          | 0/24 [00:00<?, ?it/s]"
      ]
     },
     "metadata": {},
     "output_type": "display_data"
    },
    {
     "name": "stdout",
     "output_type": "stream",
     "text": [
      "Successfully uploaded system\n",
      "top20\n"
     ]
    },
    {
     "data": {
      "application/vnd.jupyter.widget-view+json": {
       "model_id": "6047c3f8f110442e94aded83e58892ef",
       "version_major": 2,
       "version_minor": 0
      },
      "text/plain": [
       "  0%|          | 0/47 [00:00<?, ?it/s]"
      ]
     },
     "metadata": {},
     "output_type": "display_data"
    },
    {
     "name": "stdout",
     "output_type": "stream",
     "text": [
      "Successfully uploaded system\n",
      "top30\n"
     ]
    },
    {
     "data": {
      "application/vnd.jupyter.widget-view+json": {
       "model_id": "4c0a76fee6e1430980fe51add3d42622",
       "version_major": 2,
       "version_minor": 0
      },
      "text/plain": [
       "  0%|          | 0/65 [00:00<?, ?it/s]"
      ]
     },
     "metadata": {},
     "output_type": "display_data"
    },
    {
     "name": "stdout",
     "output_type": "stream",
     "text": [
      "Successfully uploaded system\n",
      "top50\n"
     ]
    },
    {
     "data": {
      "application/vnd.jupyter.widget-view+json": {
       "model_id": "4a2820e16b934755ad8c4892601f7e4e",
       "version_major": 2,
       "version_minor": 0
      },
      "text/plain": [
       "  0%|          | 0/102 [00:00<?, ?it/s]"
      ]
     },
     "metadata": {},
     "output_type": "display_data"
    },
    {
     "name": "stdout",
     "output_type": "stream",
     "text": [
      "Successfully uploaded system\n"
     ]
    }
   ],
   "source": [
    "reader_model = 'llama'\n",
    "retriever_model = 'bm25'\n",
    "# dataset = 'hot'\n",
    "top_ks= [\"baseline\", \"top1\", \"top2\", \"top3\", \"top5\", \"top10\", \"top20\", \"top30\", \"top50\"]\n",
    "for top_k in top_ks:\n",
    "    print(top_k)\n",
    "    with open(os.path.join(results_dir, reader_model, dataset, retriever_model, f\"exp2/{top_k}/reader_results_zeno.json\"), \"r\") as f:\n",
    "        data = json.load(f)\n",
    "    combined_data = combine_gold_and_compiled(data, gold_answer_set, gold_wiki_par_id_set, gold_wiki_par_text_set, gold_title_set)\n",
    "    # if (top_k != 'baseline'):\n",
    "    output_df = get_reader_df(top_k, combined_data)\n",
    "    # else:\n",
    "    #     output_df = get_baseline_df(combined_data)\n",
    "    # break\n",
    "    if top_k == 'baseline':\n",
    "        project.upload_system(\n",
    "        output_df, name= (dataset + ' ' + reader_model + ' ' + top_k), id_column=\"id\", output_column=\"output\"\n",
    "    )\n",
    "    else:\n",
    "        project.upload_system(\n",
    "            output_df, name= (dataset + ' ' + retriever_model + ' ' + reader_model + ' ' + top_k), id_column=\"id\", output_column=\"output\"\n",
    "        )\n",
    "    # if (top_k == 'top1'):\n",
    "    #     break"
   ]
  },
  {
   "cell_type": "code",
   "execution_count": 19,
   "metadata": {},
   "outputs": [],
   "source": [
    "# reader_model = 'flanT5'\n",
    "# retriever_model = 'bm25'\n",
    "# dataset = 'nq'\n",
    "# top_k = 'baseline'\n",
    "# print(top_k)\n",
    "# with open(os.path.join(results_dir, reader_model, dataset, retriever_model, f\"exp2/{top_k}/reader_results_zeno.json\"), \"r\") as f:\n",
    "#     data = json.load(f)\n",
    "# combined_data = combine_gold_and_compiled(data, gold_data)\n",
    "# output_df = get_baseline_df(combined_data)\n",
    "\n",
    "# project.upload_system(\n",
    "#     output_df, name= (dataset + ' ' + reader_model + ' ' + top_k), id_column=\"id\", output_column=\"output\"\n",
    "#     )"
   ]
  },
  {
   "cell_type": "code",
   "execution_count": 39,
   "metadata": {},
   "outputs": [
    {
     "data": {
      "text/plain": [
       "[]"
      ]
     },
     "execution_count": 39,
     "metadata": {},
     "output_type": "execute_result"
    }
   ],
   "source": []
  },
  {
   "cell_type": "code",
   "execution_count": null,
   "metadata": {},
   "outputs": [],
   "source": []
  }
 ],
 "metadata": {
  "kernelspec": {
   "display_name": "compare",
   "language": "python",
   "name": "python3"
  },
  "language_info": {
   "codemirror_mode": {
    "name": "ipython",
    "version": 3
   },
   "file_extension": ".py",
   "mimetype": "text/x-python",
   "name": "python",
   "nbconvert_exporter": "python",
   "pygments_lexer": "ipython3",
   "version": "3.10.13"
  }
 },
 "nbformat": 4,
 "nbformat_minor": 2
}
