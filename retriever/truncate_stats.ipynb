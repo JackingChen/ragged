{
 "cells": [
  {
   "cell_type": "code",
   "execution_count": 2,
   "metadata": {},
   "outputs": [],
   "source": [
    "import json"
   ]
  },
  {
   "cell_type": "code",
   "execution_count": 3,
   "metadata": {},
   "outputs": [],
   "source": [
    "import json\n",
    "\n",
    "def jsonl_to_json(jsonl_file_path, json_file_path, indent=4):\n",
    "    # Create an empty list to store JSON objects\n",
    "    data = []\n",
    "\n",
    "    # Read the .jsonl file line by line\n",
    "    with open(jsonl_file_path, 'r') as file:\n",
    "        for line in file:\n",
    "            # Parse each line as a JSON object and append to the list\n",
    "            new_data = json.loads(line)\n",
    "            del new_data['output']\n",
    "            data.append(new_data)\n",
    "\n",
    "    # Write the list of JSON objects to a .json file with indentation\n",
    "    with open(json_file_path, 'w') as file:\n",
    "        json.dump(data, file, indent=indent)\n",
    "\n",
    "# Example usage\n"
   ]
  },
  {
   "cell_type": "code",
   "execution_count": 4,
   "metadata": {},
   "outputs": [],
   "source": [
    "retriever_models = ['bm25']\n",
    "reader_models = ['llama70b', 'llama7b', 'flanT5', 'flanUl2']\n",
    "datasets = ['nq', 'hotpotqa']\n",
    "# truncate_stats = []\n",
    "for retriever_model in retriever_models:\n",
    "    for dataset in datasets:\n",
    "        jsonl_to_json(f'/data/tir/projects/tir6/general/afreens/dbqa/retriever_results/predictions/{retriever_model}/{dataset}-truncation.jsonl', f'/data/tir/projects/tir6/general/afreens/dbqa/retriever_results/predictions/{retriever_model}/{dataset}-truncation.json')\n"
   ]
  },
  {
   "cell_type": "code",
   "execution_count": 5,
   "metadata": {},
   "outputs": [
    {
     "ename": "NameError",
     "evalue": "name 'get_hist_info' is not defined",
     "output_type": "error",
     "traceback": [
      "\u001b[0;31m---------------------------------------------------------------------------\u001b[0m",
      "\u001b[0;31mNameError\u001b[0m                                 Traceback (most recent call last)",
      "Cell \u001b[0;32mIn[5], line 21\u001b[0m\n\u001b[1;32m     19\u001b[0m         t5\u001b[38;5;241m.\u001b[39mappend(d[\u001b[38;5;124m'\u001b[39m\u001b[38;5;124mt5_truncation\u001b[39m\u001b[38;5;124m'\u001b[39m])\n\u001b[1;32m     20\u001b[0m         llama\u001b[38;5;241m.\u001b[39mappend(d[\u001b[38;5;124m'\u001b[39m\u001b[38;5;124mllama_truncation\u001b[39m\u001b[38;5;124m'\u001b[39m])\n\u001b[0;32m---> 21\u001b[0m \u001b[43mget_hist_info\u001b[49m(t5, \u001b[38;5;124m'\u001b[39m\u001b[38;5;124mflanT5\u001b[39m\u001b[38;5;124m'\u001b[39m, dataset)\n\u001b[1;32m     22\u001b[0m get_hist_info(llama, \u001b[38;5;124m'\u001b[39m\u001b[38;5;124mllama\u001b[39m\u001b[38;5;124m'\u001b[39m, dataset)\n",
      "\u001b[0;31mNameError\u001b[0m: name 'get_hist_info' is not defined"
     ]
    }
   ],
   "source": [
    "def load_jsonl(file_path):\n",
    "    print('loading from', file_path)\n",
    "    data = []\n",
    "    with open(file_path, 'r') as file:\n",
    "        for line in file:\n",
    "            json_obj = json.loads(line.strip())\n",
    "            # break\n",
    "            data.append(json_obj)\n",
    "    return data\n",
    "\n",
    "\n",
    "for retriever_model in retriever_models:\n",
    "    for dataset in datasets:\n",
    "        t5  = []\n",
    "        llama = []\n",
    "        with open(f'/data/tir/projects/tir6/general/afreens/dbqa/retriever_results/predictions/{retriever_model}/{dataset}-truncation.json', 'r') as file:\n",
    "            docs = json.load(file)\n",
    "            for d in docs:\n",
    "                t5.append(d['t5_truncation'])\n",
    "                llama.append(d['llama_truncation'])\n",
    "        get_hist_info(t5, 'flanT5', dataset)\n",
    "        get_hist_info(llama, 'llama', dataset)"
   ]
  },
  {
   "cell_type": "code",
   "execution_count": 6,
   "metadata": {},
   "outputs": [],
   "source": [
    "\n",
    "import matplotlib.pyplot as plt\n",
    "import numpy as np\n",
    "def get_hist_info(size_set, reader, dataset):\n",
    "    print(size_set)\n",
    "    print('avg', np.mean(size_set), 'std', np.std(size_set), 'min', np.min(size_set), 'max', np.max(size_set))\n",
    "        # gold_wiki_size = [len(s) for s in gold_wiki_par_id_set]\n",
    "\n",
    "    plt.hist(size_set, bins=np.arange(min(size_set)-0.5, max(size_set)+1.5, 1), edgecolor='black')\n",
    "\n",
    "    # Set the labels and title for the plot\n",
    "    plt.xlabel(f'# of retrieved docs')\n",
    "    plt.ylabel('frequency')\n",
    "    plt.title(f'truncated # of retrived docs; reader = {reader}; dataset = {dataset}')\n",
    "\n",
    "    # Set x-ticks to correspond to the integer values\n",
    "    plt.xticks(range(0, 51, 5))\n",
    "    plt.xlim(left = 0, right = 50)\n",
    "\n",
    "    # Display the plot\n",
    "    plt.show()\n",
    "    \n",
    "# get_hist_info(wiki_par_id_set_size, unit = 'paragraph')\n",
    "# get_hist_info(wiki_id_set_size, unit = 'page')"
   ]
  },
  {
   "cell_type": "code",
   "execution_count": 1,
   "metadata": {},
   "outputs": [
    {
     "data": {
      "text/plain": [
       "['ok']"
      ]
     },
     "execution_count": 1,
     "metadata": {},
     "output_type": "execute_result"
    }
   ],
   "source": [
    "\"ok\".split(' ')"
   ]
  },
  {
   "cell_type": "code",
   "execution_count": 7,
   "metadata": {},
   "outputs": [
    {
     "data": {
      "text/plain": [
       "{'id': '5a70eee85542994082a3e3f0',\n",
       " 'input': 'Which group of people in West Africa with significant populations in Ghana, Ivory Coast, Liberia and Sierra Leone use the Ida?',\n",
       " 't5_truncation': 12,\n",
       " 'llama_truncation': 32}"
      ]
     },
     "execution_count": 7,
     "metadata": {},
     "output_type": "execute_result"
    }
   ],
   "source": [
    "num_docs[0]"
   ]
  },
  {
   "cell_type": "code",
   "execution_count": null,
   "metadata": {},
   "outputs": [],
   "source": []
  }
 ],
 "metadata": {
  "kernelspec": {
   "display_name": "py10",
   "language": "python",
   "name": "python3"
  },
  "language_info": {
   "codemirror_mode": {
    "name": "ipython",
    "version": 3
   },
   "file_extension": ".py",
   "mimetype": "text/x-python",
   "name": "python",
   "nbconvert_exporter": "python",
   "pygments_lexer": "ipython3",
   "version": "3.10.13"
  }
 },
 "nbformat": 4,
 "nbformat_minor": 2
}
