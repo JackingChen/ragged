{
 "cells": [
  {
   "cell_type": "code",
   "execution_count": 5,
   "metadata": {},
   "outputs": [],
   "source": [
    "import sys\n",
    "sys.path.append('/home/jhsia2/ragged')\n",
    "from file_utils import load_jsonl, save_jsonl\n",
    "import os"
   ]
  },
  {
   "cell_type": "code",
   "execution_count": 6,
   "metadata": {},
   "outputs": [],
   "source": [
    "datasets = [\"nq-dev-kilt\", \"hotpotqa-dev-kilt\", \"bioasq\"]"
   ]
  },
  {
   "cell_type": "code",
   "execution_count": 7,
   "metadata": {},
   "outputs": [],
   "source": [
    "reader_models = ['flanUl2', 'llama_70b', 'flanT5', 'llama_7b', \"llama_70b_2000_truncation\", \"llama_7b_2000_truncation\", \"llama_70b_256_tokens\", \"llama_7b_256_tokens\"]"
   ]
  },
  {
   "cell_type": "code",
   "execution_count": 11,
   "metadata": {},
   "outputs": [
    {
     "name": "stdout",
     "output_type": "stream",
     "text": [
      "loading from /data/tir/projects/tir6/general/afreens/dbqa/retriever_results/predictions/gold/nq-dev-kilt.jsonl\n",
      "loading from /data/tir/projects/tir6/general/afreens/dbqa/reader_results/flanUl2/nq/gold/all_data_evaluated.jsonl\n",
      "writing to /data/tir/projects/tir6/general/afreens/dbqa/reader_results/flanUl2/nq/gold/all_data_evaluated.jsonl\n"
     ]
    },
    {
     "name": "stdout",
     "output_type": "stream",
     "text": [
      "loading from /data/tir/projects/tir6/general/afreens/dbqa/retriever_results/predictions/gold/nq-dev-kilt.jsonl\n",
      "loading from /data/tir/projects/tir6/general/afreens/dbqa/reader_results/llama_70b/nq/gold/all_data_evaluated.jsonl\n",
      "writing to /data/tir/projects/tir6/general/afreens/dbqa/reader_results/llama_70b/nq/gold/all_data_evaluated.jsonl\n",
      "loading from /data/tir/projects/tir6/general/afreens/dbqa/retriever_results/predictions/gold/nq-dev-kilt.jsonl\n",
      "loading from /data/tir/projects/tir6/general/afreens/dbqa/reader_results/flanT5/nq/gold/all_data_evaluated.jsonl\n",
      "writing to /data/tir/projects/tir6/general/afreens/dbqa/reader_results/flanT5/nq/gold/all_data_evaluated.jsonl\n",
      "loading from /data/tir/projects/tir6/general/afreens/dbqa/retriever_results/predictions/gold/nq-dev-kilt.jsonl\n",
      "loading from /data/tir/projects/tir6/general/afreens/dbqa/reader_results/llama_7b/nq/gold/all_data_evaluated.jsonl\n",
      "writing to /data/tir/projects/tir6/general/afreens/dbqa/reader_results/llama_7b/nq/gold/all_data_evaluated.jsonl\n",
      "loading from /data/tir/projects/tir6/general/afreens/dbqa/retriever_results/predictions/gold/nq-dev-kilt.jsonl\n",
      "loading from /data/tir/projects/tir6/general/afreens/dbqa/reader_results/llama_70b_2000_truncation/nq/gold/all_data_evaluated.jsonl\n",
      "writing to /data/tir/projects/tir6/general/afreens/dbqa/reader_results/llama_70b_2000_truncation/nq/gold/all_data_evaluated.jsonl\n",
      "loading from /data/tir/projects/tir6/general/afreens/dbqa/retriever_results/predictions/gold/nq-dev-kilt.jsonl\n",
      "loading from /data/tir/projects/tir6/general/afreens/dbqa/reader_results/llama_7b_2000_truncation/nq/gold/all_data_evaluated.jsonl\n",
      "writing to /data/tir/projects/tir6/general/afreens/dbqa/reader_results/llama_7b_2000_truncation/nq/gold/all_data_evaluated.jsonl\n",
      "loading from /data/tir/projects/tir6/general/afreens/dbqa/retriever_results/predictions/gold/nq-dev-kilt.jsonl\n",
      "loading from /data/tir/projects/tir6/general/afreens/dbqa/reader_results/llama_70b_256_tokens/nq/gold/all_data_evaluated.jsonl\n",
      "writing to /data/tir/projects/tir6/general/afreens/dbqa/reader_results/llama_70b_256_tokens/nq/gold/all_data_evaluated.jsonl\n",
      "loading from /data/tir/projects/tir6/general/afreens/dbqa/retriever_results/predictions/gold/nq-dev-kilt.jsonl\n",
      "MISSING /data/tir/projects/tir6/general/afreens/dbqa/reader_results/llama_7b_256_tokens/nq/gold/all_data_evaluated.jsonl\n",
      "loading from /data/tir/projects/tir6/general/afreens/dbqa/retriever_results/predictions/gold/hotpotqa-dev-kilt.jsonl\n",
      "loading from /data/tir/projects/tir6/general/afreens/dbqa/reader_results/flanUl2/hotpotqa/gold/all_data_evaluated.jsonl\n",
      "writing to /data/tir/projects/tir6/general/afreens/dbqa/reader_results/flanUl2/hotpotqa/gold/all_data_evaluated.jsonl\n",
      "loading from /data/tir/projects/tir6/general/afreens/dbqa/retriever_results/predictions/gold/hotpotqa-dev-kilt.jsonl\n",
      "loading from /data/tir/projects/tir6/general/afreens/dbqa/reader_results/llama_70b/hotpotqa/gold/all_data_evaluated.jsonl\n",
      "writing to /data/tir/projects/tir6/general/afreens/dbqa/reader_results/llama_70b/hotpotqa/gold/all_data_evaluated.jsonl\n",
      "loading from /data/tir/projects/tir6/general/afreens/dbqa/retriever_results/predictions/gold/hotpotqa-dev-kilt.jsonl\n",
      "loading from /data/tir/projects/tir6/general/afreens/dbqa/reader_results/flanT5/hotpotqa/gold/all_data_evaluated.jsonl\n",
      "writing to /data/tir/projects/tir6/general/afreens/dbqa/reader_results/flanT5/hotpotqa/gold/all_data_evaluated.jsonl\n",
      "loading from /data/tir/projects/tir6/general/afreens/dbqa/retriever_results/predictions/gold/hotpotqa-dev-kilt.jsonl\n",
      "loading from /data/tir/projects/tir6/general/afreens/dbqa/reader_results/llama_7b/hotpotqa/gold/all_data_evaluated.jsonl\n",
      "writing to /data/tir/projects/tir6/general/afreens/dbqa/reader_results/llama_7b/hotpotqa/gold/all_data_evaluated.jsonl\n",
      "loading from /data/tir/projects/tir6/general/afreens/dbqa/retriever_results/predictions/gold/hotpotqa-dev-kilt.jsonl\n",
      "loading from /data/tir/projects/tir6/general/afreens/dbqa/reader_results/llama_70b_2000_truncation/hotpotqa/gold/all_data_evaluated.jsonl\n",
      "writing to /data/tir/projects/tir6/general/afreens/dbqa/reader_results/llama_70b_2000_truncation/hotpotqa/gold/all_data_evaluated.jsonl\n",
      "loading from /data/tir/projects/tir6/general/afreens/dbqa/retriever_results/predictions/gold/hotpotqa-dev-kilt.jsonl\n",
      "loading from /data/tir/projects/tir6/general/afreens/dbqa/reader_results/llama_7b_2000_truncation/hotpotqa/gold/all_data_evaluated.jsonl\n",
      "writing to /data/tir/projects/tir6/general/afreens/dbqa/reader_results/llama_7b_2000_truncation/hotpotqa/gold/all_data_evaluated.jsonl\n",
      "loading from /data/tir/projects/tir6/general/afreens/dbqa/retriever_results/predictions/gold/hotpotqa-dev-kilt.jsonl\n",
      "loading from /data/tir/projects/tir6/general/afreens/dbqa/reader_results/llama_70b_256_tokens/hotpotqa/gold/all_data_evaluated.jsonl\n",
      "writing to /data/tir/projects/tir6/general/afreens/dbqa/reader_results/llama_70b_256_tokens/hotpotqa/gold/all_data_evaluated.jsonl\n",
      "loading from /data/tir/projects/tir6/general/afreens/dbqa/retriever_results/predictions/gold/hotpotqa-dev-kilt.jsonl\n",
      "MISSING /data/tir/projects/tir6/general/afreens/dbqa/reader_results/llama_7b_256_tokens/hotpotqa/gold/all_data_evaluated.jsonl\n",
      "loading from /data/tir/projects/tir6/general/afreens/dbqa/retriever_results/predictions/gold/bioasq.jsonl\n",
      "loading from /data/tir/projects/tir6/general/afreens/dbqa/reader_results/flanUl2/bioasq/gold/all_data_evaluated.jsonl\n",
      "writing to /data/tir/projects/tir6/general/afreens/dbqa/reader_results/flanUl2/bioasq/gold/all_data_evaluated.jsonl\n",
      "loading from /data/tir/projects/tir6/general/afreens/dbqa/retriever_results/predictions/gold/bioasq.jsonl\n",
      "loading from /data/tir/projects/tir6/general/afreens/dbqa/reader_results/llama_70b/bioasq/gold/all_data_evaluated.jsonl\n",
      "writing to /data/tir/projects/tir6/general/afreens/dbqa/reader_results/llama_70b/bioasq/gold/all_data_evaluated.jsonl\n",
      "loading from /data/tir/projects/tir6/general/afreens/dbqa/retriever_results/predictions/gold/bioasq.jsonl\n",
      "loading from /data/tir/projects/tir6/general/afreens/dbqa/reader_results/flanT5/bioasq/gold/all_data_evaluated.jsonl\n",
      "writing to /data/tir/projects/tir6/general/afreens/dbqa/reader_results/flanT5/bioasq/gold/all_data_evaluated.jsonl\n",
      "loading from /data/tir/projects/tir6/general/afreens/dbqa/retriever_results/predictions/gold/bioasq.jsonl\n",
      "loading from /data/tir/projects/tir6/general/afreens/dbqa/reader_results/llama_7b/bioasq/gold/all_data_evaluated.jsonl\n",
      "writing to /data/tir/projects/tir6/general/afreens/dbqa/reader_results/llama_7b/bioasq/gold/all_data_evaluated.jsonl\n",
      "loading from /data/tir/projects/tir6/general/afreens/dbqa/retriever_results/predictions/gold/bioasq.jsonl\n",
      "loading from /data/tir/projects/tir6/general/afreens/dbqa/reader_results/llama_70b_2000_truncation/bioasq/gold/all_data_evaluated.jsonl\n",
      "writing to /data/tir/projects/tir6/general/afreens/dbqa/reader_results/llama_70b_2000_truncation/bioasq/gold/all_data_evaluated.jsonl\n",
      "loading from /data/tir/projects/tir6/general/afreens/dbqa/retriever_results/predictions/gold/bioasq.jsonl\n",
      "loading from /data/tir/projects/tir6/general/afreens/dbqa/reader_results/llama_7b_2000_truncation/bioasq/gold/all_data_evaluated.jsonl\n",
      "writing to /data/tir/projects/tir6/general/afreens/dbqa/reader_results/llama_7b_2000_truncation/bioasq/gold/all_data_evaluated.jsonl\n",
      "loading from /data/tir/projects/tir6/general/afreens/dbqa/retriever_results/predictions/gold/bioasq.jsonl\n",
      "loading from /data/tir/projects/tir6/general/afreens/dbqa/reader_results/llama_70b_256_tokens/bioasq/gold/all_data_evaluated.jsonl\n",
      "writing to /data/tir/projects/tir6/general/afreens/dbqa/reader_results/llama_70b_256_tokens/bioasq/gold/all_data_evaluated.jsonl\n",
      "loading from /data/tir/projects/tir6/general/afreens/dbqa/retriever_results/predictions/gold/bioasq.jsonl\n",
      "MISSING /data/tir/projects/tir6/general/afreens/dbqa/reader_results/llama_7b_256_tokens/bioasq/gold/all_data_evaluated.jsonl\n"
     ]
    }
   ],
   "source": [
    "for dataset in datasets:\n",
    "    for reader_model in reader_models:\n",
    "        gold_text = load_jsonl(f'/data/tir/projects/tir6/general/afreens/dbqa/retriever_results/predictions/gold/{dataset}.jsonl', sort_by_id = True)\n",
    "        if not os.path.exists(f'/data/tir/projects/tir6/general/afreens/dbqa/reader_results/{reader_model}/{dataset.split(\"-\")[0]}/gold/all_data_evaluated.jsonl'):\n",
    "            print('MISSING', f'/data/tir/projects/tir6/general/afreens/dbqa/reader_results/{reader_model}/{dataset.split(\"-\")[0]}/gold/all_data_evaluated.jsonl')\n",
    "            continue\n",
    "        gold_eval = load_jsonl(f'/data/tir/projects/tir6/general/afreens/dbqa/reader_results/{reader_model}/{dataset.split(\"-\")[0]}/gold/all_data_evaluated.jsonl', sort_by_id = True)\n",
    "        if gold_text and gold_eval:\n",
    "            new_g_list = []\n",
    "            for gt, ge in zip(gold_text, gold_eval):\n",
    "                new_g_list.append({'id': ge['id'],\\\n",
    "                    'input': ge['input'],\\\n",
    "                    'retrieved_passages': gt['output'][0]['provenance'],\\\n",
    "                    'answer': ge['answer'],\\\n",
    "                    'gold_answers': ge['gold_answers'],\\\n",
    "                        'answer_evaluation': ge['answer_evaluation']})\n",
    "            save_jsonl(new_g_list,f'/data/tir/projects/tir6/general/afreens/dbqa/reader_results/{reader_model}/{dataset.split(\"-\")[0]}/gold/all_data_evaluated.jsonl')"
   ]
  },
  {
   "cell_type": "code",
   "execution_count": null,
   "metadata": {},
   "outputs": [],
   "source": []
  }
 ],
 "metadata": {
  "kernelspec": {
   "display_name": "py10",
   "language": "python",
   "name": "python3"
  },
  "language_info": {
   "codemirror_mode": {
    "name": "ipython",
    "version": 3
   },
   "file_extension": ".py",
   "mimetype": "text/x-python",
   "name": "python",
   "nbconvert_exporter": "python",
   "pygments_lexer": "ipython3",
   "version": "3.10.13"
  }
 },
 "nbformat": 4,
 "nbformat_minor": 2
}
